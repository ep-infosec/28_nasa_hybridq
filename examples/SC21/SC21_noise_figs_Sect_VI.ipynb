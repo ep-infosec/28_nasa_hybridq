{
 "cells": [
  {
   "cell_type": "markdown",
   "id": "11c073a2-2468-43bd-9925-ceca9ae29121",
   "metadata": {},
   "source": [
    "Authors: Salvatore Mandra (salvatore.mandra@nasa.gov)<br>\n",
    "&emsp;&emsp;&emsp;&emsp;Jeffrey Marshall (jeffrey.s.marshall@nasa.gov)\n",
    "\n",
    "Copyright © 2021, United States Government, as represented by the Administrator\n",
    "of the National Aeronautics and Space Administration. All rights reserved.\n",
    "\n",
    "The *HybridQ: A Hybrid Simulator for Quantum Circuits* platform is licensed under\n",
    "the Apache License, Version 2.0 (the \"License\"); you may not use this file\n",
    "except in compliance with the License. You may obtain a copy of the License at\n",
    "http://www.apache.org/licenses/LICENSE-2.0. \n",
    "\n",
    "Unless required by applicable law or agreed to in writing, software distributed\n",
    "under the License is distributed on an \"AS IS\" BASIS, WITHOUT WARRANTIES OR\n",
    "CONDITIONS OF ANY KIND, either express or implied. See the License for the\n",
    "specific language governing permissions and limitations under the License."
   ]
  },
  {
   "cell_type": "markdown",
   "id": "8d40b371-640e-42a0-b9d9-b189820fca98",
   "metadata": {},
   "source": [
    "### This notebook contains all of the code to generate the plots of the noisy simulations in the SC21 paper.\n",
    "#### To run these, both HybridQ and QuTiP are required to be installed."
   ]
  },
  {
   "cell_type": "code",
   "execution_count": 1,
   "id": "53080444-86e6-44fe-9cc9-ecbba29a93d3",
   "metadata": {},
   "outputs": [
    {
     "name": "stdout",
     "output_type": "stream",
     "text": [
      "\n",
      "QuTiP: Quantum Toolbox in Python\n",
      "================================\n",
      "Copyright (c) QuTiP team 2011 and later.\n",
      "Current admin team: Alexander Pitchford, Nathan Shammah, Shahnawaz Ahmed, Neill Lambert, Eric Giguère, Boxi Li, Jake Lishman and Simon Cross.\n",
      "Board members: Daniel Burgarth, Robert Johansson, Anton F. Kockum, Franco Nori and Will Zeng.\n",
      "Original developers: R. J. Johansson & P. D. Nation.\n",
      "Previous lead developers: Chris Granade & A. Grimsmo.\n",
      "Currently developed through wide collaboration. See https://github.com/qutip for details.\n",
      "\n",
      "QuTiP Version:      4.7.0.dev0+nogit\n",
      "Numpy Version:      1.19.2\n",
      "Scipy Version:      1.5.0\n",
      "Cython Version:     0.29.24\n",
      "Matplotlib Version: 3.2.1\n",
      "Python Version:     3.8.5\n",
      "Number of CPUs:     4\n",
      "BLAS Info:          INTEL MKL\n",
      "OPENMP Installed:   True\n",
      "INTEL MKL Ext:      True\n",
      "Platform Info:      Darwin (x86_64)\n",
      "Installation path:  /Users/jeff/opt/anaconda3/envs/hybridq/lib/python3.8/site-packages/qutip-4.7.0.dev0+nogit-py3.8-macosx-10.9-x86_64.egg/qutip\n",
      "================================================================================\n",
      "Please cite QuTiP in your publication.\n",
      "================================================================================\n",
      "For your convenience a bibtex reference can be easily generated using `qutip.cite()`\n"
     ]
    }
   ],
   "source": [
    "import time\n",
    "import numpy as np\n",
    "from itertools import product\n",
    "from typing import List\n",
    "\n",
    "from hybridq.gate import Gate\n",
    "from hybridq.circuit.simulation import simulate\n",
    "from hybridq.extras.random import get_rqc\n",
    "\n",
    "# density matrix imports\n",
    "from hybridq.dm.circuit import Circuit as SuperCircuit\n",
    "from hybridq.dm.circuit.simulation import simulate as dm_simulate\n",
    "from hybridq.noise.utils import add_depolarizing_noise\n",
    "from hybridq.noise.channel.utils import ptrace\n",
    "from hybridq.noise.channel import GlobalDepolarizingChannel, LocalDepolarizingChannel\n",
    "\n",
    "import qutip as qt\n",
    "from qutip.qip.operations import expand_operator\n",
    "\n",
    "# for plotting\n",
    "from matplotlib import pyplot as plt\n",
    "from matplotlib import rc\n",
    "# rc('font',**{'family':'sans-serif','sans-serif':['Helvetica']})\n",
    "# rc('text', usetex=True)\n",
    "\n",
    "# qutip specs\n",
    "qt.about()"
   ]
  },
  {
   "cell_type": "markdown",
   "id": "84503fa1-8794-445b-9276-eea667ea5aee",
   "metadata": {},
   "source": [
    "## A couple helper functions for QuTiP simulations"
   ]
  },
  {
   "cell_type": "code",
   "execution_count": 2,
   "id": "f0ddd4db-0014-4471-bbd5-4a9967988e0d",
   "metadata": {},
   "outputs": [],
   "source": [
    "I = np.diag([1, 1])\n",
    "X = np.array([[0, 1], [1, 0]])\n",
    "Y = np.array([[0, -1j], [1j, 0]])\n",
    "Z = np.diag([1, -1])\n",
    "PAULIS = [I, X, Y, Z]\n",
    "\n",
    "\n",
    "def depolarizing_channel(p: float, nq: int = 1):\n",
    "    \"\"\"\n",
    "    Depolarizing channel of nq qubits, with depolarizing probability `p`.\n",
    "    That is, it defines the channel (1-p) rho + (p/d)I\n",
    "    where I is the identity matrix, and d=2**nq the dimension.\n",
    "    \n",
    "    Returns a tuple of the weighted Kraus operators\n",
    "    \"\"\"\n",
    "    def _kron_prod(matrices):\n",
    "        a = matrices[0]\n",
    "        for i in range(1, len(matrices)):\n",
    "            a = np.kron(a, matrices[i])\n",
    "        return a\n",
    "\n",
    "    all_paulis = list(product(*[PAULIS for _ in range(nq)]))\n",
    "    ops = [_kron_prod(sigmas) for sigmas in all_paulis]\n",
    "    norm = p / 4**nq  # normalize by number of pauli strings\n",
    "    p0 = 1 - p + norm\n",
    "    probs = [norm] * len(all_paulis)\n",
    "    probs[0] = p0  # identity\n",
    "    if not np.all([0 <= pi <= 1 for pi in probs]):\n",
    "        raise ValueError(f'Input probability {p} does note define valid map')\n",
    "    return tuple(\n",
    "        np.sqrt(probs[i]) * o for i, o in enumerate(ops) if probs[i] != 0)\n",
    "\n",
    "\n",
    "def qt_apply(rho: qt.Qobj, krauses: List[qt.Qobj], targets: List[int]):\n",
    "    \"\"\"\n",
    "    Apply Krauses on qutip object.\n",
    "    \n",
    "    Given a density matrix rho, apply the Kraus\n",
    "    operators on the targets, to return\n",
    "    sum_i K_i rho K_i^dagger\n",
    "    \"\"\"\n",
    "\n",
    "    N = len(rho.dims[0])\n",
    "    rho_copy = 0 * rho\n",
    "    for k in krauses:\n",
    "        if not isinstance(k, qt.Qobj):\n",
    "            k = qt.Qobj(k, dims=[[2] * len(targets), [2] * len(targets)])\n",
    "        K = expand_operator(k, N, targets=targets)\n",
    "        rho_copy += K * rho * K.dag()\n",
    "    return rho_copy"
   ]
  },
  {
   "cell_type": "markdown",
   "id": "1100f4c2-8615-4e00-9dda-c89827a5ec57",
   "metadata": {},
   "source": [
    "## first a check that a simple density matrix simulation in HybridQ gives the correct results, comparing to an easy to solve model"
   ]
  },
  {
   "cell_type": "code",
   "execution_count": 3,
   "id": "b14df215-73ee-45a2-b861-3e1aff9c4bb7",
   "metadata": {},
   "outputs": [
    {
     "name": "stdout",
     "output_type": "stream",
     "text": [
      "RZ:\n",
      "[[0.99968752-0.0249974j 0.        +0.j       ]\n",
      " [0.        +0.j        0.99968752+0.0249974j]]\n",
      "\n",
      "|+><+| = \n",
      "[[0.5 0.5]\n",
      " [0.5 0.5]]\n",
      "\n",
      "0 1 2 3 4 5 6 "
     ]
    },
    {
     "name": "stderr",
     "output_type": "stream",
     "text": [
      "/Users/jeff/opt/anaconda3/envs/hybridq/lib/python3.8/site-packages/hybridq/gate/gate.py:444: UserWarning: Using default number of qubits 'n_qubits=1'.\n",
      "  warn(\"Using default number of qubits 'n_qubits=1'.\")\n"
     ]
    },
    {
     "name": "stdout",
     "output_type": "stream",
     "text": [
      "7 8 9 10 11 12 13 14 15 16 17 18 19 20 21 22 23 24 25 26 27 28 29 30 31 32 33 34 35 36 37 38 39 40 41 42 43 44 45 46 47 48 49 50 51 52 53 54 55 56 57 58 59 60 61 62 63 64 65 66 67 68 69 70 71 72 73 74 75 76 77 78 79 80 81 82 83 84 85 86 87 88 89 90 91 92 93 94 95 96 97 98 99 100 101 102 103 104 105 106 107 108 109 110 111 112 113 114 115 116 117 118 119 120 121 122 123 124 125 126 127 128 129 130 131 132 133 134 135 136 137 138 139 140 141 142 143 144 145 146 147 148 149 150 151 152 153 154 155 156 157 158 159 160 161 162 163 164 165 166 167 168 169 170 171 172 173 174 175 176 177 178 179 180 181 182 183 184 185 186 187 188 189 190 191 192 193 194 195 196 197 198 199 200 201 202 203 204 205 206 207 208 209 210 211 212 213 214 215 216 217 218 219 220 221 222 223 224 225 226 227 228 229 230 231 232 233 234 235 236 237 238 239 240 241 242 243 244 245 246 247 248 249 \n",
      "\n",
      "rho(t) = \n",
      "[[0.50000058+0.j         0.0404398 +0.00268796j]\n",
      " [0.0404398 -0.00268796j 0.50000058+0.j        ]]\n"
     ]
    }
   ],
   "source": [
    "steps = range(250)  # time steps for simulation \n",
    "p = 0.01            # depolarizing probability\n",
    "theta = 0.05        # rotation angle for unitary RZ\n",
    "\n",
    "# Z rotation\n",
    "RZ = Gate('RZ', qubits=[0], params=[theta])\n",
    "print(\"RZ:\")\n",
    "print(RZ.matrix())\n",
    "print()\n",
    "\n",
    "# Depolarizing channel on qubit 0\n",
    "depol = GlobalDepolarizingChannel([0], p=p)\n",
    "\n",
    "# each layer is a rotation followed by depolarizing\n",
    "all_gates = [RZ] + [depol]\n",
    "\n",
    "# make into a circuit\n",
    "C = SuperCircuit(all_gates)\n",
    "\n",
    "print(\"|+><+| = \")\n",
    "rho = np.ones((2, 2)) / 2\n",
    "print(rho)\n",
    "print()\n",
    "\n",
    "X_expec = []\n",
    "for t in steps:\n",
    "    print(f\"{t} \", end='')\n",
    "    rho = dm_simulate(C, rho, optimize='evolution-einsum')\n",
    "    \n",
    "    X_expec += [(X @ rho).trace()]\n",
    "    \n",
    "print('\\n')\n",
    "print(\"rho(t) = \")\n",
    "print(rho)"
   ]
  },
  {
   "cell_type": "code",
   "execution_count": 4,
   "id": "985c0cbc-0036-42e5-80ab-c24f15768768",
   "metadata": {},
   "outputs": [
    {
     "data": {
      "text/plain": [
       "<matplotlib.legend.Legend at 0x7fdb28bdeaf0>"
      ]
     },
     "execution_count": 4,
     "metadata": {},
     "output_type": "execute_result"
    },
    {
     "data": {
      "image/png": "[encoded data removed]",
      "text/plain": [
       "<Figure size 432x288 with 1 Axes>"
      ]
     },
     "metadata": {
      "needs_background": "light"
     },
     "output_type": "display_data"
    }
   ],
   "source": [
    "fig, ax = plt.subplots(1)\n",
    "sa = np.array(steps) + 1  # offset\n",
    "\n",
    "y1 = np.cos(theta * sa) * (1 - p)**sa\n",
    "ax.plot(steps, np.real(X_expec), 'o', label=f'HybridQ')\n",
    "ax.plot(steps, y1, '--', label='Exact', linewidth=2)\n",
    "ax.plot(steps, np.cos(theta * sa), 'k-', label='Noiseless', linewidth=0.5)\n",
    "\n",
    "ax.set_xlabel(r'time (steps)')\n",
    "ax.set_ylabel(r'$\\langle X \\rangle$')\n",
    "ax.grid()\n",
    "ax.legend()"
   ]
  },
  {
   "cell_type": "markdown",
   "id": "f605ab79-92bb-4e80-b679-37b962d0995b",
   "metadata": {},
   "source": [
    "# now we check a simple density matrix simulation that HybridQ and QuTiP give the same results. In particular, we apply local depolarizing noise to each qubit of a random state. We also time this."
   ]
  },
  {
   "cell_type": "code",
   "execution_count": 5,
   "id": "310027b0-c092-43b4-addb-e1e69bc978b8",
   "metadata": {},
   "outputs": [
    {
     "name": "stdout",
     "output_type": "stream",
     "text": [
      "1 2 3 4 "
     ]
    },
    {
     "name": "stderr",
     "output_type": "stream",
     "text": [
      "/Users/jeff/opt/anaconda3/envs/hybridq/lib/python3.8/site-packages/hybridq/gate/gate.py:444: UserWarning: Using default number of qubits 'n_qubits=1'.\n",
      "  warn(\"Using default number of qubits 'n_qubits=1'.\")\n",
      "/Users/jeff/opt/anaconda3/envs/hybridq/lib/python3.8/site-packages/hybridq/circuit/simulation/simulation.py:408: UserWarning: The system is too small to use optimize='evolution-hybridq'. Falling back to optimize='evolution-einsum'\n",
      "  warn(\"The system is too small to use optimize='evolution-hybridq'. \"\n"
     ]
    },
    {
     "name": "stdout",
     "output_type": "stream",
     "text": [
      "5 6 7 8 9 10 11 \n",
      "completed without any error for backend: evolution-hybridq\n"
     ]
    }
   ],
   "source": [
    "sizes = range(1, 12)\n",
    "\n",
    "# since we use a random state below, let's fix the seed for exact reproducability\n",
    "np.random.seed(1)\n",
    "\n",
    "# try both backends\n",
    "backend = ['evolution-hybridq', 'evolution-einsum'][0]\n",
    "\n",
    "timing_data = {'qt': [], 'hq': []}\n",
    "for N in sizes:\n",
    "    print(f'{N} ', end='')\n",
    "\n",
    "    # get a random density matrix to simulate from QuTiP\n",
    "    rho_qt = qt.rand_dm(2**N, dims=[[2] * N, [2] * N])\n",
    "    # density matrix with appropriate dimensions for HybridQ\n",
    "    rho_numpy = np.reshape(rho_qt.full(), (2, ) * 2 * N)\n",
    "\n",
    "    # different probabilities for each qubit\n",
    "    depol_probs = [0.05 * (n + 1) for n in range(N)]\n",
    "\n",
    "    # first do the HybridQ simulation\n",
    "    t1_hq = time.time()\n",
    "    qubits = tuple(range(N))\n",
    "\n",
    "    # use LocalDepolarizingChannel to build desired local noise channels\n",
    "    C = SuperCircuit(LocalDepolarizingChannel(qubits, depol_probs))\n",
    "\n",
    "    rho_hq = dm_simulate(C, rho_numpy, optimize=backend)\n",
    "    rho_hq = np.reshape(rho_hq, (2**N, 2**N))\n",
    "\n",
    "    t2_hq = time.time()\n",
    "\n",
    "    # now the QuTiP simulation\n",
    "    t1_qt = time.time()\n",
    "    # Kraus operators for each qubit, and convert each operator to Qobj type\n",
    "    Krauses = [depolarizing_channel(p) for p in depol_probs]\n",
    "    qt_gates = [[qt.Qobj(k) for k in Krauses[i]] for i in range(N)]\n",
    "\n",
    "    for n, channel in enumerate(qt_gates):\n",
    "        rho_qt = qt_apply(rho_qt, channel, n)\n",
    "\n",
    "    t2_qt = time.time()\n",
    "\n",
    "    timing_data['qt'] += [t2_qt - t1_qt]\n",
    "    timing_data['hq'] += [t2_hq - t1_hq]\n",
    "\n",
    "    # check HybridQ and QuTiP gives same result\n",
    "    np.testing.assert_array_almost_equal(rho_hq, rho_qt.full())\n",
    "\n",
    "print(f'\\ncompleted without any error for backend: {backend}')"
   ]
  },
  {
   "cell_type": "code",
   "execution_count": 6,
   "id": "19a2eead-3b8b-4dba-8e15-392b67d52601",
   "metadata": {},
   "outputs": [
    {
     "data": {
      "image/png": "[encoded data removed]",
      "text/plain": [
       "<Figure size 432x288 with 1 Axes>"
      ]
     },
     "metadata": {
      "needs_background": "light"
     },
     "output_type": "display_data"
    }
   ],
   "source": [
    "# now plot the results\n",
    "fig, ax = plt.subplots(1)\n",
    "\n",
    "ax.plot(sizes, timing_data['hq'], 'o-', label=backend)\n",
    "ax.plot(sizes, timing_data['qt'], 's-', label='QuTiP')\n",
    "\n",
    "ax.set_xlabel(r'$n$')\n",
    "ax.set_ylabel(r'time (secs)')\n",
    "ax.grid()\n",
    "ax.legend()\n",
    "ax.set_yscale('log')"
   ]
  },
  {
   "cell_type": "markdown",
   "id": "8b82deac-d173-4249-a47f-b8284aa5dc41",
   "metadata": {},
   "source": [
    "### Now we test the tensor contraction protocol. Here the aim is to extract the reduced density matrix of a single qubit. We apply a random quantum circuit with 1 or 2-local depolarizing noise after each gate."
   ]
  },
  {
   "cell_type": "code",
   "execution_count": 7,
   "id": "560a4f26-2309-473d-8a5a-52d45028920c",
   "metadata": {},
   "outputs": [
    {
     "data": {
      "application/vnd.jupyter.widget-view+json": {
       "model_id": "",
       "version_major": 2,
       "version_minor": 0
      },
      "text/plain": [
       "Contracting tensor (li=2^9, mli=2^26.0):   0%|          | 0/1 [00:00<?, ?it/s]"
      ]
     },
     "metadata": {},
     "output_type": "display_data"
    },
    {
     "name": "stderr",
     "output_type": "stream",
     "text": [
      "/Users/jeff/opt/anaconda3/envs/hybridq/lib/python3.8/site-packages/hybridq/circuit/simulation/simulation.py:408: UserWarning: The system is too small to use optimize='evolution-hybridq'. Falling back to optimize='evolution-einsum'\n",
      "  warn(\"The system is too small to use optimize='evolution-hybridq'. \"\n",
      "/Users/jeff/opt/anaconda3/envs/hybridq/lib/python3.8/site-packages/hybridq/gate/gate.py:444: UserWarning: Using default number of qubits 'n_qubits=1'.\n",
      "  warn(\"Using default number of qubits 'n_qubits=1'.\")\n"
     ]
    },
    {
     "data": {
      "application/vnd.jupyter.widget-view+json": {
       "model_id": "",
       "version_major": 2,
       "version_minor": 0
      },
      "text/plain": [
       "Contracting tensor (li=2^12, mli=2^26.0):   0%|          | 0/1 [00:00<?, ?it/s]"
      ]
     },
     "metadata": {},
     "output_type": "display_data"
    },
    {
     "name": "stdout",
     "output_type": "stream",
     "text": [
      "rho_0 without noise from tn\n",
      "[[ 0.42610568-1.3038516e-08j -0.2131076 -4.4885118e-02j]\n",
      " [-0.21310762+4.4885121e-02j  0.57389426+3.7252903e-09j]]\n",
      "\n",
      "rho_0 without noise from pure state sim\n",
      "[[ 0.4261056 +0.j         -0.21310759-0.04488505j]\n",
      " [-0.21310759+0.04488505j  0.5738944 +0.j        ]]\n",
      "\n",
      "rho_0 with noise\n",
      "[[ 0.43125063-1.9527682e-09j -0.19861479-4.1832477e-02j]\n",
      " [-0.19861478+4.1832447e-02j  0.5687492 +1.4601886e-09j]]\n",
      "\n",
      "  noiseless sim took time 3.585 s using tn, and 0.485 s using ptrace\n",
      "  noisy sim took time 3.109 s\n"
     ]
    }
   ],
   "source": [
    "N = 9\n",
    "n_gates = 50\n",
    "# single and two qubit depolarizing rates\n",
    "p1 = 0.01\n",
    "p2 = 0.015\n",
    "\n",
    "# the tensor contraction summation indices\n",
    "indices = 'abcdefghijklmno'\n",
    "\n",
    "# get a random quantum circuit for N qubits and n_gates gates.\n",
    "rqc = get_rqc(N, n_gates)\n",
    "\n",
    "# final state, e.g. '.abc' (where '.' is not contracted)\n",
    "fs = '.' + indices[0:N - 1]\n",
    "\n",
    "# first noiseless sim. There are two ways to do this.\n",
    "t1_hq_tn = time.time()\n",
    "# we do it via 'tn' to demonstrate the code is working as expected\n",
    "rho_ideal_hq = dm_simulate(rqc,\n",
    "                           initial_state='+',\n",
    "                           final_state=fs + fs,\n",
    "                           optimize='tn')\n",
    "t2_hq_tn = time.time()\n",
    "\n",
    "# by pure state evolution and taking partial trace (can differ slightly due to precision)\n",
    "t1_hq_pure = time.time()\n",
    "rho_ideal_hq_pure = ptrace(np.reshape(simulate(rqc, '+'), (2**N, )), 0)\n",
    "t2_hq_pure = time.time()\n",
    "\n",
    "# noisy sim with tensor network contraction\n",
    "t1_hq_noise = time.time()\n",
    "\n",
    "# add depolarizing noise and simulate\n",
    "noisy_circuit = add_depolarizing_noise(rqc, (p1, p2))\n",
    "C = SuperCircuit(noisy_circuit)\n",
    "rho_noise_hq = dm_simulate(C,\n",
    "                           initial_state='+',\n",
    "                           final_state=fs + fs,\n",
    "                           optimize='tn')\n",
    "\n",
    "t2_hq_noise = time.time()\n",
    "\n",
    "print(\"rho_0 without noise from tn\")\n",
    "print(rho_ideal_hq)\n",
    "print()\n",
    "print(\"rho_0 without noise from pure state sim\")\n",
    "print(rho_ideal_hq_pure)\n",
    "print()\n",
    "print(\"rho_0 with noise\")\n",
    "print(rho_noise_hq)\n",
    "\n",
    "print(\n",
    "    f'\\n  noiseless sim took time {t2_hq_tn - t1_hq_tn:.3f} s using tn, and {t2_hq_pure-t1_hq_pure:.3f} s using ptrace'\n",
    "    f'\\n  noisy sim took time {t2_hq_noise - t1_hq_noise:.3f} s')"
   ]
  },
  {
   "cell_type": "code",
   "execution_count": 8,
   "id": "1f7c0cdc-559c-445d-b7e2-dce428ccdcbf",
   "metadata": {},
   "outputs": [
    {
     "name": "stdout",
     "output_type": "stream",
     "text": [
      "rho_0 (qutip) without noise\n",
      "Quantum object: dims = [[2], [2]], shape = (2, 2), type = oper, isherm = True\n",
      "Qobj data =\n",
      "[[ 0.42610571+1.44913722e-18j -0.21310762-4.48850695e-02j]\n",
      " [-0.21310762+4.48850695e-02j  0.57389429+5.55325891e-19j]]\n",
      "\n",
      "rho_0 (qutip) with noise\n",
      "Quantum object: dims = [[2], [2]], shape = (2, 2), type = oper, isherm = True\n",
      "Qobj data =\n",
      "[[ 0.43125076+0.j         -0.19861484-0.04183242j]\n",
      " [-0.19861484+0.04183242j  0.56874924+0.j        ]]\n",
      "\n",
      "  qutip noiseless sim took time 0.139 s.\n",
      "  noisy sim took 12.559 s\n"
     ]
    }
   ],
   "source": [
    "# now run with qutip, and check same output.\n",
    "# here we simply run the full simulation, and then trace out the other qubits.\n",
    "plus = (qt.basis(2, 0) + qt.basis(2, 1)).unit()\n",
    "psi = qt.tensor([plus] * N)\n",
    "rho = qt.ket2dm(psi)\n",
    "\n",
    "# now simulate. We do the noisy and noiseless separately\n",
    "# first noise free pure state\n",
    "t1_qt = time.time()\n",
    "for g in rqc:\n",
    "    nq = len(g.qubits)\n",
    "    g_qt = expand_operator(qt.Qobj(g.matrix(), dims=[[2] * nq, [2] * nq]),\n",
    "                           N,\n",
    "                           targets=g.qubits)\n",
    "\n",
    "    # apply gate then the noise channel.\n",
    "    psi = g_qt * psi\n",
    "\n",
    "# now trace out other qubits\n",
    "rho_ideal_qt = psi.ptrace(0)\n",
    "t2_qt = time.time()\n",
    "\n",
    "# iterate over the Gate's in the rqc, and convert to qutip.Qobj type.\n",
    "t1_qt_noise = time.time()\n",
    "for g in rqc:\n",
    "    nq = len(g.qubits)\n",
    "    g_qt = expand_operator(qt.Qobj(g.matrix(), dims=[[2] * nq, [2] * nq]),\n",
    "                           N,\n",
    "                           targets=g.qubits)\n",
    "\n",
    "    # apply gate then the noise channel.\n",
    "    rho = g_qt * rho * g_qt.dag()\n",
    "    Pd = p1 if nq == 1 else p2\n",
    "    rho = qt_apply(rho, depolarizing_channel(Pd, nq), g.qubits)\n",
    "\n",
    "# trace out other qubits\n",
    "rho_noise_qt = rho.ptrace(0)\n",
    "t2_qt_noise = time.time()\n",
    "\n",
    "print(\"rho_0 (qutip) without noise\")\n",
    "print(rho_ideal_qt)\n",
    "\n",
    "print()\n",
    "print(\"rho_0 (qutip) with noise\")\n",
    "print(rho_noise_qt)\n",
    "\n",
    "# check qutip and hybridq agree\n",
    "np.testing.assert_array_almost_equal(rho_ideal_qt.full(), rho_ideal_hq)\n",
    "np.testing.assert_array_almost_equal(rho_noise_qt.full(), rho_noise_hq)\n",
    "\n",
    "print(f'\\n  qutip noiseless sim took time {t2_qt - t1_qt:.3f} '\n",
    "      f's.\\n  noisy sim took {t2_qt_noise - t1_qt_noise:.3f} s')"
   ]
  },
  {
   "cell_type": "code",
   "execution_count": null,
   "id": "3d869e44-1ad6-4830-b2be-e585e6feef43",
   "metadata": {},
   "outputs": [],
   "source": []
  }
 ],
 "metadata": {
  "kernelspec": {
   "display_name": "Python 3",
   "language": "python",
   "name": "python3"
  },
  "language_info": {
   "codemirror_mode": {
    "name": "ipython",
    "version": 3
   },
   "file_extension": ".py",
   "mimetype": "text/x-python",
   "name": "python",
   "nbconvert_exporter": "python",
   "pygments_lexer": "ipython3",
   "version": "3.8.5"
  },
  "latex_envs": {
   "LaTeX_envs_menu_present": true,
   "autoclose": false,
   "autocomplete": true,
   "bibliofile": "biblio.bib",
   "cite_by": "apalike",
   "current_citInitial": 1,
   "eqLabelWithNumbers": true,
   "eqNumInitial": 1,
   "hotkeys": {
    "equation": "Ctrl-E",
    "itemize": "Ctrl-I"
   },
   "labels_anchors": false,
   "latex_user_defs": false,
   "report_style_numbering": false,
   "user_envs_cfg": false
  },
  "varInspector": {
   "cols": {
    "lenName": 16,
    "lenType": 16,
    "lenVar": 40
   },
   "kernels_config": {
    "python": {
     "delete_cmd_postfix": "",
     "delete_cmd_prefix": "del ",
     "library": "var_list.py",
     "varRefreshCmd": "print(var_dic_list())"
    },
    "r": {
     "delete_cmd_postfix": ") ",
     "delete_cmd_prefix": "rm(",
     "library": "var_list.r",
     "varRefreshCmd": "cat(var_dic_list()) "
    }
   },
   "types_to_exclude": [
    "module",
    "function",
    "builtin_function_or_method",
    "instance",
    "_Feature"
   ],
   "window_display": false
  }
 },
 "nbformat": 4,
 "nbformat_minor": 5
}
