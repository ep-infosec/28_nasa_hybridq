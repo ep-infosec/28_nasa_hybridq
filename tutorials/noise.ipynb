{
 "cells": [
  {
   "cell_type": "markdown",
   "id": "2bccf5e3-1ff2-4e5a-bf02-014e5995b457",
   "metadata": {},
   "source": [
    "Authors: Salvatore Mandra (salvatore.mandra@nasa.gov)<br>\n",
    "&emsp;&emsp;&emsp;&emsp;Jeffrey Marshall (jeffrey.s.marshall@nasa.gov)\n",
    "\n",
    "Copyright © 2021, United States Government, as represented by the Administrator\n",
    "of the National Aeronautics and Space Administration. All rights reserved.\n",
    "\n",
    "The *HybridQ: A Hybrid Simulator for Quantum Circuits* platform is licensed under\n",
    "the Apache License, Version 2.0 (the \"License\"); you may not use this file\n",
    "except in compliance with the License. You may obtain a copy of the License at\n",
    "http://www.apache.org/licenses/LICENSE-2.0. \n",
    "\n",
    "Unless required by applicable law or agreed to in writing, software distributed\n",
    "under the License is distributed on an \"AS IS\" BASIS, WITHOUT WARRANTIES OR\n",
    "CONDITIONS OF ANY KIND, either express or implied. See the License for the\n",
    "specific language governing permissions and limitations under the License."
   ]
  },
  {
   "cell_type": "markdown",
   "id": "b281b0ad-3f5e-4cfa-871f-be9dbaa8ce72",
   "metadata": {},
   "source": [
    "# XX - Noise\n",
    "\n",
    "It is possible to add noise models in Kraus form to a Circuit in **HybridQ**. In this tutorial, we will show how to utilise default noise models already in the library, but also how the user can construct custom noise models. \n",
    "\n",
    "There are two relevant modules <code>hybridq.dm</code> and <code>hybridq.noise</code>, which allow one to construct a circuit with noise, and also provides some utility functions relvant to noisy simulations."
   ]
  },
  {
   "cell_type": "code",
   "execution_count": 1,
   "id": "7d8740dc-a62e-4833-b8a6-e9db6bee4d35",
   "metadata": {},
   "outputs": [],
   "source": [
    "%load_ext autoreload\n",
    "%autoreload 2\n",
    "\n",
    "import numpy as np\n",
    "\n",
    "from hybridq.gate import Gate\n",
    "from hybridq.circuit.simulation import simulate\n",
    "from hybridq.extras.random import get_rqc\n",
    "\n",
    "# density matrix imports\n",
    "from hybridq.dm.circuit import Circuit as SuperCircuit\n",
    "from hybridq.dm.gate import Gate as NoiseGate\n",
    "from hybridq.dm.circuit.simulation import simulate as dm_simulate\n",
    "from hybridq.noise.utils import add_depolarizing_noise\n",
    "from hybridq.noise.channel.utils import ptrace, is_channel, is_dm, reconstruct_dm\n",
    "from hybridq.noise.channel import *\n"
   ]
  },
  {
   "cell_type": "markdown",
   "id": "871fd600-8ae9-4370-bc04-47a95b6150ed",
   "metadata": {},
   "source": [
    "## Custom Kraus maps\n",
    "First we show how to build custom KrausGate's, either directly from the matrices themselves, or using pre-defined Gate's"
   ]
  },
  {
   "cell_type": "code",
   "execution_count": 2,
   "id": "fdc8296f-c348-4592-9164-e44a8851dddb",
   "metadata": {},
   "outputs": [
    {
     "name": "stdout",
     "output_type": "stream",
     "text": [
      "KrausSuperGate(name='KRAUS', l_qubits=('my_qubit',), r_qubits=('my_qubit',), gates=(BaseTupleGate(MatrixGate(name='MATRIX', qubits=('my_qubit',), M=numpy.ndarray(shape=(2, 2), dtype=int64)), MatrixGate(name='MATRIX', qubits=('my_qubit',), M=numpy.ndarray(shape=(2, 2), dtype=int64))), BaseTupleGate(MatrixGate(name='MATRIX', qubits=('my_qubit',), M=numpy.ndarray(shape=(2, 2), dtype=int64)), MatrixGate(name='MATRIX', qubits=('my_qubit',), M=numpy.ndarray(shape=(2, 2), dtype=int64)))), s=1)\n",
      "\n",
      "is_channel(kraus_gate) = True\n",
      "\n"
     ]
    }
   ],
   "source": [
    "# |0><0| and |1><1| projectors as a list\n",
    "kraus_ops = [ [[1, 0], [0, 0]], [[0, 0], [0, 1]]]\n",
    "\n",
    "# convert to Gate types acting on relevant qubit(s)\n",
    "kraus_op_gates = [Gate('matrix', U=k, qubits=['my_qubit']) for k in kraus_ops]\n",
    "\n",
    "kraus_gate = NoiseGate('kraus', gates=kraus_op_gates)\n",
    "\n",
    "print(kraus_gate)\n",
    "\n",
    "# check it defines a valid quantum channel\n",
    "print(f'\\nis_channel(kraus_gate) = {is_channel(kraus_gate)}\\n')\n"
   ]
  },
  {
   "cell_type": "markdown",
   "id": "b4326116-75c9-4e45-beed-e27067a1065a",
   "metadata": {},
   "source": [
    "We can also build more general map representation (generalizing the chi matrix): $\\rho \\rightarrow \\sum_{i,j}s_{i,j} L_i \\rho R_j^\\dagger $"
   ]
  },
  {
   "cell_type": "code",
   "execution_count": 3,
   "id": "f98db163-08a3-4b64-b113-b78c3c7aca6f",
   "metadata": {},
   "outputs": [
    {
     "name": "stdout",
     "output_type": "stream",
     "text": [
      "first an invalid channel with left operators (X, Z), and right operators (I, Z)\n",
      "KrausSuperGate(name='KRAUS', l_qubits=(0,), r_qubits=(0,), gates=(BaseTupleGate(Gate_X(name='X', qubits=(0,), M=numpy.ndarray(shape=(2, 2), dtype=int64)), Gate_Z(name='Z', qubits=(0,), M=numpy.ndarray(shape=(2, 2), dtype=int64))), BaseTupleGate(Gate_I(name='I', qubits=(0,)), Gate_Y(name='Y', qubits=(0,), M=numpy.ndarray(shape=(2, 2), dtype=complex128)))), s=numpy.ndarray(shape=(2, 2), dtype=float64))\n",
      "\n",
      "(X,Z), (I,Y) (invalid) channel: is_channel(kraus_gate) = False\n",
      "\n",
      "now a valid channel with left and right operators (X, Z)\n",
      "KrausSuperGate(name='KRAUS', l_qubits=(0,), r_qubits=(0,), gates=(BaseTupleGate(Gate_X(name='X', qubits=(0,), M=numpy.ndarray(shape=(2, 2), dtype=int64)), Gate_Z(name='Z', qubits=(0,), M=numpy.ndarray(shape=(2, 2), dtype=int64))), BaseTupleGate(Gate_X(name='X', qubits=(0,), M=numpy.ndarray(shape=(2, 2), dtype=int64)), Gate_Z(name='Z', qubits=(0,), M=numpy.ndarray(shape=(2, 2), dtype=int64)))), s=numpy.ndarray(shape=(2, 2), dtype=float64))\n",
      "\n",
      "(X,Z), (X,Z) (valid) channel: is_channel(kraus_gate) = True\n"
     ]
    }
   ],
   "source": [
    "# note, this is just for demonstrative purposes, it is not a valid quantum map\n",
    "print('first an invalid channel with left operators (X, Z), and right operators (I, Z)')\n",
    "left_gates = [Gate('X', qubits=[0]), Gate('Z', qubits=[0])]\n",
    "right_gates = [Gate('I', qubits=[0]), Gate('Y', qubits=[0])]\n",
    "\n",
    "# specify custom left and right gates, and the 's' matrix\n",
    "kraus_gate = NoiseGate('kraus', gates=[left_gates, right_gates], s=[[0.1, 0.2], [0.2, 0.9]])\n",
    "print(kraus_gate)\n",
    "print()\n",
    "\n",
    "# as mentioned above, the above channel is not a valid quantum map\n",
    "print(f'(X,Z), (I,Y) (invalid) channel: is_channel(kraus_gate) = {is_channel(kraus_gate)}\\n')\n",
    "\n",
    "# now let's build a valid channel\n",
    "print('now a valid channel with left and right operators (X, Z)')\n",
    "left_gates = [Gate('X', qubits=[0]), Gate('Z', qubits=[0])]\n",
    "right_gates = [Gate('X', qubits=[0]), Gate('Z', qubits=[0])]\n",
    "\n",
    "# specify custom left and right gates, and the 's' matrix\n",
    "kraus_gate = NoiseGate('kraus', gates=[left_gates, right_gates], s=[[0.1, 0.2], [0.2, 0.9]])\n",
    "print(kraus_gate)\n",
    "print()\n",
    "\n",
    "# as mentioned above, the above channel is not a valid quantum map\n",
    "print(f'(X,Z), (X,Z) (valid) channel: is_channel(kraus_gate) = {is_channel(kraus_gate)}')"
   ]
  },
  {
   "cell_type": "markdown",
   "id": "2396db2c-2742-41f0-8af1-783f6ae746b6",
   "metadata": {},
   "source": [
    "## Named SuperGates\n",
    "\n",
    "Here we show some of the Kraus maps which exist in the **HybridQ** library.\n",
    "These are found in <code>hybridq.noise.channel</code>.\n",
    "In addition to those shown below, there are also <code>GlobalPauliChannel</code> and <code>LocalPauliChannel</code> that implement Pauli channels (Kraus operators are Pauli operators)."
   ]
  },
  {
   "cell_type": "code",
   "execution_count": 4,
   "id": "25b75de1-51eb-45a7-b4d7-7689146eab53",
   "metadata": {},
   "outputs": [
    {
     "name": "stdout",
     "output_type": "stream",
     "text": [
      "GlobalDepolarizingChannel(name='GLOBAL_DEPOLARIZING_CHANNEL', qubits=(0, 1, 2), s.shape=(64,), p=0.1)\n",
      "\n",
      "(LocalDepolarizingChannel(name='LOCAL_DEPOLARIZING_CHANNEL', qubits=(0,), s.shape=(4,), p=0.1), LocalDepolarizingChannel(name='LOCAL_DEPOLARIZING_CHANNEL', qubits=(1,), s.shape=(4,), p=0.2), LocalDepolarizingChannel(name='LOCAL_DEPOLARIZING_CHANNEL', qubits=(2,), s.shape=(4,), p=0.3))\n",
      "\n",
      "(LocalDephasingChannel(name='LOCAL_DEPHASING_CHANNEL', qubits=(0,), s.shape=(4,), p=0.1, axis=Z), LocalDephasingChannel(name='LOCAL_DEPHASING_CHANNEL', qubits=(1,), s.shape=(4,), p=0.2, axis=Z), LocalDephasingChannel(name='LOCAL_DEPHASING_CHANNEL', qubits=(2,), s.shape=(4,), p=0.3, axis=Z))\n",
      "\n",
      "(AmplitudeDampingChannel(name='AMPLITUDE_DAMPING_CHANNEL', qubits=(0,), s.shape=(4,), gamma=0.1, p=0.9), AmplitudeDampingChannel(name='AMPLITUDE_DAMPING_CHANNEL', qubits=(1,), s.shape=(4,), gamma=0.1, p=0.9), AmplitudeDampingChannel(name='AMPLITUDE_DAMPING_CHANNEL', qubits=(2,), s.shape=(4,), gamma=0.1, p=0.9))\n"
     ]
    }
   ],
   "source": [
    "# a depolarizing channel with probability of depolarizing `p`, acting on all qubits\n",
    "gdc = GlobalDepolarizingChannel(qubits=[0,1,2], p=0.1)\n",
    "print(gdc)\n",
    "\n",
    "print()\n",
    "\n",
    "# this is similar to above, except each qubit gets a single qubit depolarizing channel\n",
    "# we can specify unique probabilities for each qubit\n",
    "# when we print it, we see it returns a tuple of channels\n",
    "ldc = LocalDepolarizingChannel(qubits=[0,1,2], p=[0.1, 0.2, 0.3])\n",
    "print(ldc)\n",
    "\n",
    "print()\n",
    "\n",
    "# similar to LocalDepolarizingChannel, but applies a Pauli (e.g. Kraus ops are I and Z here)\n",
    "dephase_channel = LocalDephasingChannel(qubits=[0,1,2], p=[0.1, 0.2, 0.3], pauli_index=3)\n",
    "print(dephase_channel)\n",
    "\n",
    "print()\n",
    "\n",
    "# generalized amplitude damping channel (describing 0->1 and 1->0 incoherent transitions)\n",
    "adc = AmplitudeDampingChannel(qubits=[0,1,2], gamma=0.1, p=0.9)\n",
    "print(adc)"
   ]
  },
  {
   "cell_type": "markdown",
   "id": "30eddeb0-7082-4bb3-9774-4fda765313b2",
   "metadata": {},
   "source": [
    "## Adding noise to a circuit\n",
    "\n",
    "There are a few convenience functions that will add noise after or before the Gate's of a Circuit.\n",
    "\n",
    "In addition to the depolarizing noise case shown below, currently there are also similar functions for dephasing noise <code>add_dephasing_noise</code> and amplitude damping noise <code>add_amplitude_damping_noise</code>, found in <code>hybridq.noise.utils</code>"
   ]
  },
  {
   "cell_type": "code",
   "execution_count": 5,
   "id": "e078f208-7d00-4f8c-a1b4-117e96effe2e",
   "metadata": {},
   "outputs": [
    {
     "name": "stderr",
     "output_type": "stream",
     "text": [
      "/Users/jeff/opt/anaconda3/envs/hybridq/lib/python3.8/site-packages/hybridq/gate/gate.py:560: UserWarning: Using default number of qubits 'n_qubits=1'.\n",
      "  warn(\"Using default number of qubits 'n_qubits=1'.\")\n"
     ]
    },
    {
     "name": "stdout",
     "output_type": "stream",
     "text": [
      "random unitary circuit:\n",
      "Circuit([\n",
      "\tGate_SQRT_SWAP^*(name='SQRT_SWAP', qubits=(1, 2), M=numpy.ndarray(shape=(4, 4), dtype=complex128))**0.94448\n",
      "\tGate_CZ^+(name='CZ', qubits=(0, 2), M=numpy.ndarray(shape=(4, 4), dtype=int64))**0.61783\n",
      "\tMatrixGate(name='MATRIX', qubits=(0,), M=numpy.ndarray(shape=(2, 2), dtype=complex128))\n",
      "\tMatrixGate(name='MATRIX', qubits=(2, 1), M=numpy.ndarray(shape=(4, 4), dtype=complex128))\n",
      "\t...\n",
      "\tGate_SQRT_Y(name='SQRT_Y', qubits=(2,), M=numpy.ndarray(shape=(2, 2), dtype=complex128))**0.11861,\n",
      "\tMatrixGate(name='MATRIX', qubits=(2,), M=numpy.ndarray(shape=(2, 2), dtype=complex128)),\n",
      "\tMatrixGate(name='MATRIX', qubits=(1, 0), M=numpy.ndarray(shape=(4, 4), dtype=complex128)),\n",
      "\tGate_ZZ^*(name='ZZ', qubits=(1, 0), M=numpy.ndarray(shape=(4, 4), dtype=int64))**0.05721\n",
      "])\n",
      "\n",
      "circuit after adding noise:\n",
      "Circuit([\n",
      "\tGate_SQRT_SWAP^*(name='SQRT_SWAP', qubits=(1, 2), M=numpy.ndarray(shape=(4, 4), dtype=complex128))**0.94448\n",
      "\tGlobalDepolarizingChannel(name='GLOBAL_DEPOLARIZING_CHANNEL', qubits=(1, 2), s.shape=(16,), p=0.015)\n",
      "\tGate_CZ^+(name='CZ', qubits=(0, 2), M=numpy.ndarray(shape=(4, 4), dtype=int64))**0.61783\n",
      "\tGlobalDepolarizingChannel(name='GLOBAL_DEPOLARIZING_CHANNEL', qubits=(0, 2), s.shape=(16,), p=0.015)\n",
      "\t...\n",
      "\tMatrixGate(name='MATRIX', qubits=(1, 0), M=numpy.ndarray(shape=(4, 4), dtype=complex128)),\n",
      "\tGlobalDepolarizingChannel(name='GLOBAL_DEPOLARIZING_CHANNEL', qubits=(1, 0), s.shape=(16,), p=0.015),\n",
      "\tGate_ZZ^*(name='ZZ', qubits=(1, 0), M=numpy.ndarray(shape=(4, 4), dtype=int64))**0.05721,\n",
      "\tGlobalDepolarizingChannel(name='GLOBAL_DEPOLARIZING_CHANNEL', qubits=(1, 0), s.shape=(16,), p=0.015)\n",
      "])\n"
     ]
    }
   ],
   "source": [
    "random_circuit = get_rqc(3, 50)\n",
    "print(\"random unitary circuit:\")\n",
    "print(random_circuit)\n",
    "print()\n",
    "\n",
    "# add 1% noise after single qubit gates, and 1.5% noise after two qubit gates\n",
    "noisy_circuit = add_depolarizing_noise(random_circuit, probs=(0.01, 0.015))\n",
    "print(\"circuit after adding noise:\")\n",
    "print(noisy_circuit)"
   ]
  },
  {
   "cell_type": "markdown",
   "id": "32683ad9-0ffe-4249-b66c-a11eb7ce6e65",
   "metadata": {},
   "source": [
    "## Perform density matrix simulation"
   ]
  },
  {
   "cell_type": "code",
   "execution_count": 6,
   "id": "ac3a1bb8-ca3a-485c-9ca9-e3c6076b8c98",
   "metadata": {},
   "outputs": [
    {
     "name": "stderr",
     "output_type": "stream",
     "text": [
      "/Users/jeff/opt/anaconda3/envs/hybridq/lib/python3.8/site-packages/hybridq/circuit/simulation/simulation.py:408: UserWarning: The system is too small to use optimize='evolution-hybridq'. Falling back to optimize='evolution-einsum'\n",
      "  warn(\"The system is too small to use optimize='evolution-hybridq'. \"\n"
     ]
    },
    {
     "name": "stdout",
     "output_type": "stream",
     "text": [
      "[[ 0.37538254-1.19558530e-09j -0.00285803-2.25299716e-01j\n",
      "  -0.17299353+1.06610715e-01j  0.0218471 +1.98528036e-01j]\n",
      " [-0.00285807+2.25299746e-01j  0.2244091 -2.79082446e-08j\n",
      "  -0.07323889-1.24401368e-01j -0.14706825+1.33162886e-02j]\n",
      " [-0.17299354-1.06610730e-01j -0.07323888+1.24401301e-01j\n",
      "   0.20425305-2.52970489e-09j  0.0589449 -1.25093848e-01j]\n",
      " [ 0.02184708-1.98528081e-01j -0.14706822-1.33162662e-02j\n",
      "   0.05894497+1.25093848e-01j  0.19595502-2.33144970e-08j]]\n",
      "output is_dm = True\n"
     ]
    }
   ],
   "source": [
    "nq = 2\n",
    "random_circuit = get_rqc(nq, 25)\n",
    "noisy_circuit = add_depolarizing_noise(random_circuit, probs=(0.01, 0.015))\n",
    "\n",
    "\n",
    "# start in the + state, but can also provide np.ndarray as initial density matrix\n",
    "# we reshape the output to be dxd (instead of split by tensor indices)\n",
    "rho = np.reshape(dm_simulate(noisy_circuit, '+'), (2**nq, 2**nq))\n",
    "\n",
    "print(rho)\n",
    "\n",
    "# we can check it is a density matrix\n",
    "print(f'output is_dm = {is_dm(rho)}')"
   ]
  },
  {
   "cell_type": "markdown",
   "id": "f7184f99-25f7-43f6-9d0b-9efca68f9459",
   "metadata": {},
   "source": [
    "## different backends\n",
    "\n",
    "All of the standard **HybridQ** backends are supported in density matrix simulations.\n",
    "\n",
    "Here we show the tensor network backend"
   ]
  },
  {
   "cell_type": "code",
   "execution_count": 7,
   "id": "5b50bdc1-79c1-4bc8-a0e2-fba21fb4c5b5",
   "metadata": {},
   "outputs": [
    {
     "data": {
      "application/vnd.jupyter.widget-view+json": {
       "model_id": "",
       "version_major": 2,
       "version_minor": 0
      },
      "text/plain": [
       "Contracting tensor (li=2^2, mli=2^26.0):   0%|          | 0/1 [00:00<?, ?it/s]"
      ]
     },
     "metadata": {},
     "output_type": "display_data"
    },
    {
     "name": "stdout",
     "output_type": "stream",
     "text": [
      "tensor network output:\n",
      "[[0.537376-0.j       0.061301-0.315364j]\n",
      " [0.061301+0.315364j 0.462624+0.j      ]]\n",
      "\n",
      "full evolution with partial trace:\n",
      "[[0.537376+0.j       0.061301-0.315364j]\n",
      " [0.061301+0.315364j 0.462624-0.j      ]]\n"
     ]
    }
   ],
   "source": [
    "random_circuit = get_rqc(2, 25)\n",
    "noisy_circuit = add_depolarizing_noise(random_circuit, probs=(0.01, 0.015))\n",
    "\n",
    "\n",
    "# let's use the tensor network backed to trace out qubit 1\n",
    "rho_0_tn = dm_simulate(noisy_circuit, initial_state='+', final_state='.a.a', optimize='tn')\n",
    "\n",
    "# we can also get the same output using the ptrace function\n",
    "rho = np.reshape(dm_simulate(noisy_circuit, '+', optimize='evolution-einsum'), (2**nq, 2**nq))\n",
    "rho_0_full_evolution = ptrace(rho, keep=[0])\n",
    "\n",
    "print('tensor network output:')\n",
    "# round due to default precision (can increase using atol)\n",
    "print(np.round(rho_0_tn, 6))\n",
    "\n",
    "print('\\nfull evolution with partial trace:')\n",
    "print(np.round(rho_0_full_evolution, 6))"
   ]
  },
  {
   "cell_type": "markdown",
   "id": "c6e83c01-c57f-4cc9-9161-3f22e2b0e2d3",
   "metadata": {},
   "source": [
    "## Kraus operator pure state sampling\n",
    "\n",
    "Instead of applying the Kraus operators directly on a density matrix, **HybridQ** supports an option to sample the Kraus operators probabilistically on a pure state. This can be done so long as the left and right Kraus operators are the same, i.e. of the form $\\sum_i K_i \\rho K_i^\\dagger$. Then, for $\\rho = |\\psi \\rangle \\langle \\psi |$, the Kraus operator $K_i$ is applied with probability $P_i = |\\langle \\psi | K_i^\\dagger K_i |\\psi\\rangle|$.\n",
    "\n",
    "To use sampling, the pure state simulation method <code>hybridq.circuit.simulation.simulate</code> should be used, specifying *allow_sampling=True*, which can accept a noise circuit <code>hybridq.dm.circuit</code> containing Kraus operations."
   ]
  },
  {
   "cell_type": "code",
   "execution_count": 9,
   "id": "ebbaa87c-cd61-43e5-a8d0-a39be221ddcf",
   "metadata": {},
   "outputs": [
    {
     "name": "stdout",
     "output_type": "stream",
     "text": [
      "[ 0.70710677+0.j -0.70710677+0.j]\n"
     ]
    }
   ],
   "source": [
    "# First a unitary channel\n",
    "\n",
    "# channel with the same left/right Kraus operators\n",
    "# setting p=1 means I, X, Y, Z applied with equal probability\n",
    "gdc = GlobalDepolarizingChannel([0], p=1.)\n",
    "c = SuperCircuit([gdc])\n",
    "\n",
    "# see example run on a single state\n",
    "# Note, since this is a unitary channel, the Kraus operators are sampled before run-time.\n",
    "# we set remove_id_gates=False so that when the identity is chosen the circuit still runs.\n",
    "psi = simulate(c, '+', allow_sampling=True, remove_id_gates=False)\n",
    "\n",
    "# output is a pure state, one of I|+>=|+>, X|+>=|+>, Y|+>, Z|+>=|->\n",
    "print(psi)"
   ]
  },
  {
   "cell_type": "code",
   "execution_count": 10,
   "id": "daf16287-7e0f-4e14-bec6-ada7f5462406",
   "metadata": {},
   "outputs": [
    {
     "name": "stdout",
     "output_type": "stream",
     "text": [
      "rho out from simulation of 250 samples:\n",
      "[[0.5  +0.j 0.376+0.j]\n",
      " [0.376+0.j 0.5  +0.j]]\n",
      "\n",
      "expected rho_out:\n",
      "[[0.5   0.375]\n",
      " [0.375 0.5  ]]\n"
     ]
    }
   ],
   "source": [
    "# now run many samples and reconstruct the density matrix\n",
    "\n",
    "p=0.25\n",
    "n_sample = 250\n",
    "\n",
    "gdc = GlobalDepolarizingChannel([0], p=p)\n",
    "c = SuperCircuit([gdc])\n",
    "\n",
    "states = []\n",
    "for _ in range(n_sample):\n",
    "    psi = simulate(c, '+', allow_sampling=True, remove_id_gates=False)\n",
    "    states.append(psi)\n",
    "\n",
    "# there is a function to sum up the pure states into a density matrix\n",
    "rho_out = reconstruct_dm(states)\n",
    "\n",
    "print(f\"rho out from simulation of {n_sample} samples:\")\n",
    "print(np.round(rho_out, 4))\n",
    "\n",
    "print()\n",
    "print(\"expected rho_out:\")\n",
    "rho_exp = (1-p) * np.ones((2,2)) / 2 + p * np.eye(2) / 2\n",
    "print(rho_exp)"
   ]
  },
  {
   "cell_type": "code",
   "execution_count": 11,
   "id": "65fc9ac3-a574-4a7a-8402-63ce4f67888c",
   "metadata": {},
   "outputs": [
    {
     "name": "stdout",
     "output_type": "stream",
     "text": [
      "[0.+0.j 1.+0.j]\n"
     ]
    }
   ],
   "source": [
    "# now a channel with non-unitary Kraus operators that are sampled at run-time\n",
    "\n",
    "adc = AmplitudeDampingChannel([0], gamma=0.25)\n",
    "c = SuperCircuit([adc])\n",
    "\n",
    "# we don't need to specify remove_id_gates=False here since the Kraus' are\n",
    "# sampled at run-time\n",
    "psi = simulate(c, '1', allow_sampling=True)\n",
    "\n",
    "# the output is either |1> or |0>, with probability depending on gamma.\n",
    "print(psi)"
   ]
  },
  {
   "cell_type": "code",
   "execution_count": null,
   "id": "f11d506d-8914-4e89-9e37-76b519ae245a",
   "metadata": {},
   "outputs": [],
   "source": []
  }
 ],
 "metadata": {
  "kernelspec": {
   "display_name": "Python 3",
   "language": "python",
   "name": "python3"
  },
  "language_info": {
   "codemirror_mode": {
    "name": "ipython",
    "version": 3
   },
   "file_extension": ".py",
   "mimetype": "text/x-python",
   "name": "python",
   "nbconvert_exporter": "python",
   "pygments_lexer": "ipython3",
   "version": "3.8.5"
  }
 },
 "nbformat": 4,
 "nbformat_minor": 5
}
