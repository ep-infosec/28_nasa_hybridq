{
 "cells": [
  {
   "cell_type": "markdown",
   "id": "16e37fd4",
   "metadata": {},
   "source": [
    "Authors: Salvatore Mandra (salvatore.mandra@nasa.gov)<br>\n",
    "&emsp;&emsp;&emsp;&emsp;Jeffrey Marshall (jeffrey.s.marshall@nasa.gov)\n",
    "\n",
    "Copyright © 2021, United States Government, as represented by the Administrator\n",
    "of the National Aeronautics and Space Administration. All rights reserved.\n",
    "\n",
    "The *HybridQ: A Hybrid Simulator for Quantum Circuits* platform is licensed under\n",
    "the Apache License, Version 2.0 (the \"License\"); you may not use this file\n",
    "except in compliance with the License. You may obtain a copy of the License at\n",
    "http://www.apache.org/licenses/LICENSE-2.0. \n",
    "\n",
    "Unless required by applicable law or agreed to in writing, software distributed\n",
    "under the License is distributed on an \"AS IS\" BASIS, WITHOUT WARRANTIES OR\n",
    "CONDITIONS OF ANY KIND, either express or implied. See the License for the\n",
    "specific language governing permissions and limitations under the License."
   ]
  },
  {
   "cell_type": "markdown",
   "id": "e60a9b1c",
   "metadata": {},
   "source": [
    "# 01 - Gates\n",
    "\n",
    "Gates are at the core of **HybridQ**. In this tutorial, we will show how gates are designed, and how to use them. Also, we will show how to create and implement new gates in **HybridQ**."
   ]
  },
  {
   "cell_type": "markdown",
   "id": "ecbca859",
   "metadata": {},
   "source": [
    "In **HybridQ** we use the concept of *properties* to define gates. More precisely, instead of using monolithic gates which are hard to maintain and extend, *every* property is independently implemented so that different object may share multiple properties. This approach not only simplifies the development by allowing a large reuse of the code, it also simplify the maintenance and extension of the code as new features and fix are applied at the level of the properties, and then propagated to all objects using them.\n",
    "\n",
    "For instance, the rotation gate on the <code>X</code> axis inherits the following properties:"
   ]
  },
  {
   "cell_type": "code",
   "execution_count": 1,
   "id": "cd97c914",
   "metadata": {
    "ExecuteTime": {
     "end_time": "2021-11-04T18:18:32.029603Z",
     "start_time": "2021-11-04T18:18:31.711360Z"
    }
   },
   "outputs": [
    {
     "data": {
      "text/plain": [
       "[hybridq.base.base.Gate_RX,\n",
       " hybridq.gate.gate.BaseGate,\n",
       " hybridq.gate.property.RotationGate,\n",
       " hybridq.gate.property.ParamGate,\n",
       " hybridq.base.property.Params,\n",
       " hybridq.gate.property.UnitaryGate,\n",
       " hybridq.gate.property.PowerMatrixGate,\n",
       " hybridq.gate.property.PowerGate,\n",
       " hybridq.gate.property.QubitGate,\n",
       " hybridq.base.property.Tags,\n",
       " hybridq.base.property.Name,\n",
       " hybridq.base.base.__Base__,\n",
       " object]"
      ]
     },
     "execution_count": 1,
     "metadata": {},
     "output_type": "execute_result"
    }
   ],
   "source": [
    "%load_ext autoreload\n",
    "%autoreload 2\n",
    "\n",
    "# Import NumPy\n",
    "import numpy as np\n",
    "\n",
    "# Load gates\n",
    "from hybridq.gate import Gate\n",
    "\n",
    "# Get inheritance from rotation gate\n",
    "type(Gate('RX')).mro()"
   ]
  },
  {
   "cell_type": "markdown",
   "id": "4d025a78",
   "metadata": {},
   "source": [
    "Every single property add (or modify) some characteristic of the gate. For instance, <code>PowerGate</code> allows to specify any power to the given gate while <code>PowerMatrixGate</code> takes a matrix representing the gate and actually implement the operation.\n",
    "\n",
    "For the full set of properties that each gate supports, please refer to the technical [documentation](https://github.com/nasa/hybridq/tree/main/docs)."
   ]
  },
  {
   "cell_type": "markdown",
   "id": "e502dea4",
   "metadata": {},
   "source": [
    "## Gates\n",
    "\n",
    "At the moment, **HybridQ** supports two types of gates: *named* gates and *functional* gates. Named gates, as the name suggests, are the commonly used gates while functional gates allow to interact with the quantum state in a non-trivial way.\n",
    "\n",
    "### Named Gates\n",
    "\n",
    "A full list of available named gates can be obtained as follows:"
   ]
  },
  {
   "cell_type": "code",
   "execution_count": 2,
   "id": "b3a0f8e8",
   "metadata": {
    "ExecuteTime": {
     "end_time": "2021-11-04T18:18:32.047199Z",
     "start_time": "2021-11-04T18:18:32.031920Z"
    }
   },
   "outputs": [
    {
     "data": {
      "text/plain": [
       "('I',\n",
       " 'H',\n",
       " 'X',\n",
       " 'Y',\n",
       " 'Z',\n",
       " 'U3',\n",
       " 'R_PI_2',\n",
       " 'ZZ',\n",
       " 'CZ',\n",
       " 'CX',\n",
       " 'SWAP',\n",
       " 'ISWAP',\n",
       " 'CPHASE',\n",
       " 'FSIM',\n",
       " 'RX',\n",
       " 'RY',\n",
       " 'RZ',\n",
       " 'SQRT_X',\n",
       " 'SQRT_Y',\n",
       " 'P',\n",
       " 'T',\n",
       " 'SQRT_SWAP',\n",
       " 'SQRT_ISWAP')"
      ]
     },
     "execution_count": 2,
     "metadata": {},
     "output_type": "execute_result"
    }
   ],
   "source": [
    "from hybridq.gate.utils import get_available_gates\n",
    "\n",
    "get_available_gates()"
   ]
  },
  {
   "cell_type": "code",
   "execution_count": 3,
   "id": "a63f6e79",
   "metadata": {
    "ExecuteTime": {
     "end_time": "2021-11-04T18:18:32.063877Z",
     "start_time": "2021-11-04T18:18:32.048921Z"
    }
   },
   "outputs": [
    {
     "data": {
      "text/plain": [
       "Gate_ISWAP(name='ISWAP', n_qubits=2, M=numpy.ndarray(shape=(4, 4), dtype=complex128))"
      ]
     },
     "execution_count": 3,
     "metadata": {},
     "output_type": "execute_result"
    }
   ],
   "source": [
    "# All named gates can be created by using the following syntax\n",
    "# (the name of the gate is case insensitive):\n",
    "Gate('iswap')"
   ]
  },
  {
   "cell_type": "markdown",
   "id": "2137331b",
   "metadata": {},
   "source": [
    "Some gates require parameters to specify details on the gate. For example, the rx gate expects one parameter, the rotation angle.\n",
    "\n",
    "HybridQ provides an easy way to determine the number of qubits and parameters required to specify the gate"
   ]
  },
  {
   "cell_type": "code",
   "execution_count": 4,
   "id": "d927f59f",
   "metadata": {
    "ExecuteTime": {
     "end_time": "2021-11-04T18:18:32.082943Z",
     "start_time": "2021-11-04T18:18:32.066622Z"
    }
   },
   "outputs": [
    {
     "name": "stdout",
     "output_type": "stream",
     "text": [
      "RX    - Number of qubits: 1\n",
      "      - Number of params: 1\n",
      "FSIM  - Number of qubits: 2\n",
      "      - Number of params: 2\n",
      "X     - Number of qubits: 1\n",
      "      - Number of params: none\n"
     ]
    }
   ],
   "source": [
    "for name in ['rx', 'fsim', 'x']:\n",
    "    g = Gate(name)\n",
    "    print(f\"{name.upper():5s} - Number of qubits:\", g.n_qubits)\n",
    "    print(f\"{'':5s} - Number of params:\",\n",
    "          g.n_params if g.provides('n_params') else 'none')"
   ]
  },
  {
   "cell_type": "markdown",
   "id": "8c22c46e",
   "metadata": {},
   "source": [
    "Qubits and parameters can be specified either before or after the creation of the gate. **HybridQ** allows the use of *any* object for qubits and parameters, including <code>sympy</code> symbols."
   ]
  },
  {
   "cell_type": "code",
   "execution_count": 5,
   "id": "e7b5cdf7",
   "metadata": {
    "ExecuteTime": {
     "end_time": "2021-11-04T18:18:32.630034Z",
     "start_time": "2021-11-04T18:18:32.084647Z"
    }
   },
   "outputs": [
    {
     "name": "stdout",
     "output_type": "stream",
     "text": [
      "Gate_RX(name='RX', qubits=(α,), φ=Mod(1.0*β*γ, 12.5663706143592))\n"
     ]
    }
   ],
   "source": [
    "# Example 1: Symbolic qubits and params\n",
    "\n",
    "from sympy import symbols\n",
    "\n",
    "# Define a few symbols\n",
    "α, β, γ = symbols('α β γ')\n",
    "\n",
    "# Specify all parameters at the creation of the gate\n",
    "g1 = Gate('RX', qubits=[α], params=[β], power=γ)\n",
    "\n",
    "print(g1)"
   ]
  },
  {
   "cell_type": "code",
   "execution_count": 6,
   "id": "b07d7788",
   "metadata": {
    "ExecuteTime": {
     "end_time": "2021-11-04T18:18:32.703597Z",
     "start_time": "2021-11-04T18:18:32.631840Z"
    }
   },
   "outputs": [
    {
     "name": "stdout",
     "output_type": "stream",
     "text": [
      "Gate_RX(name='RX', qubits=(α,), φ=Mod(1.0*β*γ, 12.5663706143592))\n"
     ]
    }
   ],
   "source": [
    "# Example 2: Specify inplace after creation\n",
    "\n",
    "# Get a rotation gate without qubits nor parameters\n",
    "g2 = Gate('RX')\n",
    "\n",
    "# Add some qubits inplace\n",
    "g2.on([α], inplace=True)\n",
    "\n",
    "# Set parameters as new object and elevate to the power of γ\n",
    "g2 = g2.set_params([β])**γ\n",
    "\n",
    "# Check g1 == g2\n",
    "assert (g1 == g2)\n",
    "\n",
    "print(g2)"
   ]
  },
  {
   "cell_type": "code",
   "execution_count": 7,
   "id": "58cf9fa9",
   "metadata": {
    "ExecuteTime": {
     "end_time": "2021-11-04T18:18:32.731170Z",
     "start_time": "2021-11-04T18:18:32.705397Z"
    }
   },
   "outputs": [],
   "source": [
    "# Because Gate('RX') is a 'RotationGate', raising it to any\n",
    "# power will actually change the rotation angle\n",
    "assert (g1.power == 1)\n",
    "assert (g1.params[0] == (β * γ) % (4 * np.pi))"
   ]
  },
  {
   "cell_type": "markdown",
   "id": "1dbcadc8",
   "metadata": {},
   "source": [
    "All gates provide a way to *tag* them. This is particularly useful when one wants to identify some specific gates in a circuit."
   ]
  },
  {
   "cell_type": "code",
   "execution_count": 8,
   "id": "64e22016",
   "metadata": {
    "ExecuteTime": {
     "end_time": "2021-11-04T18:18:32.776877Z",
     "start_time": "2021-11-04T18:18:32.733588Z"
    }
   },
   "outputs": [
    {
     "data": {
      "text/plain": [
       "(Gate_RX(name='RX', qubits=(α,), φ=Mod(1.0*β*γ, 12.5663706143592), tags={'a': 1, 'b': 2}),\n",
       " Gate_RX(name='RX', qubits=(α,), φ=Mod(1.0*β*γ, 12.5663706143592), tags={'a': 2}),\n",
       " 1,\n",
       " 2)"
      ]
     },
     "execution_count": 8,
     "metadata": {},
     "output_type": "execute_result"
    }
   ],
   "source": [
    "g1 = g1.set_tags(dict(a=1, b=2))\n",
    "g2.set_tags(dict(a=2), inplace=True)\n",
    "\n",
    "# Tags are not used when gates are compared\n",
    "assert (g1 == g2)\n",
    "\n",
    "g1, g2, g1.tags['a'], g2.tags['a']"
   ]
  },
  {
   "cell_type": "markdown",
   "id": "a430e619",
   "metadata": {},
   "source": [
    "It is possible to get the matrix representing the gate by using the following command:"
   ]
  },
  {
   "cell_type": "code",
   "execution_count": 9,
   "id": "9a7f0928",
   "metadata": {
    "ExecuteTime": {
     "end_time": "2021-11-04T18:18:32.817942Z",
     "start_time": "2021-11-04T18:18:32.779287Z"
    }
   },
   "outputs": [
    {
     "data": {
      "text/plain": [
       "array([[0.3530194+0.j      , 0.       -0.935616j],\n",
       "       [0.       -0.935616j, 0.3530194+0.j      ]])"
      ]
     },
     "execution_count": 9,
     "metadata": {},
     "output_type": "execute_result"
    }
   ],
   "source": [
    "try:\n",
    "    # This should fail because no values have been provided to symbols\n",
    "    g1.matrix()\n",
    "except:\n",
    "    pass\n",
    "else:\n",
    "    raise RuntimeError(\"Something went wrong\")\n",
    "\n",
    "# Let's specify the rotation angle\n",
    "g1.set_params([g1.params[0].subs({β: 1.1, γ: 2.2})], inplace=True).matrix()"
   ]
  },
  {
   "cell_type": "markdown",
   "id": "d1f6096d",
   "metadata": {},
   "source": [
    "Gates can be also created by providing their matrix representation using the named gate *MatrixGate*"
   ]
  },
  {
   "cell_type": "code",
   "execution_count": 10,
   "id": "6535f43e",
   "metadata": {
    "ExecuteTime": {
     "end_time": "2021-11-04T18:18:32.850041Z",
     "start_time": "2021-11-04T18:18:32.821824Z"
    }
   },
   "outputs": [],
   "source": [
    "from hybridq.gate import MatrixGate\n",
    "\n",
    "# Create a gate using its matrix representation\n",
    "gm = MatrixGate(qubits=g1.qubits, U=g1.matrix())\n",
    "\n",
    "# It is also possible to use Gate directly\n",
    "gm2 = Gate('matrix', qubits=g1.qubits, U=g1.matrix())\n",
    "assert (gm2 == gm)\n",
    "\n",
    "# Observe that the strict equivalence '==' requires that the\n",
    "# two objects are identical (including qubits and parameters)\n",
    "assert (gm != g1)\n",
    "\n",
    "# However, HybridQ provides a way to compare two gates\n",
    "assert (gm.isclose(g1))\n",
    "\n",
    "# 'isclose' will return False if qubits are different\n",
    "assert (not gm.isclose(g1.on([42])))"
   ]
  },
  {
   "cell_type": "code",
   "execution_count": 11,
   "id": "fc15190a",
   "metadata": {
    "ExecuteTime": {
     "end_time": "2021-11-04T18:18:32.890810Z",
     "start_time": "2021-11-04T18:18:32.852494Z"
    }
   },
   "outputs": [
    {
     "name": "stderr",
     "output_type": "stream",
     "text": [
      "/home/dagart/local/miniconda3/envs/hybridq/lib/python3.8/site-packages/hybridq/gate/gate.py:291: UserWarning: 'CNOT' is an alias for 'CX'. Using Gate(name='{_gate_aliases[name]}').\n",
      "  warn(f\"'{name}' is an alias for '{_gate_aliases[name]}'. \"\n"
     ]
    },
    {
     "data": {
      "text/plain": [
       "array([[1, 0, 0, 0],\n",
       "       [0, 1, 0, 0],\n",
       "       [0, 0, 0, 1],\n",
       "       [0, 0, 1, 0]])"
      ]
     },
     "execution_count": 11,
     "metadata": {},
     "output_type": "execute_result"
    }
   ],
   "source": [
    "# The order of qubits is important. For instance the following\n",
    "# CNOT gate, will flip the qubit 'b' only if 'a' is one\n",
    "g = Gate('cnot', qubits=['a', 'b'])\n",
    "\n",
    "# The matrix representation assumes that the first qubit\n",
    "# is 'a' and the second qubit is 'b'\n",
    "g.matrix()"
   ]
  },
  {
   "cell_type": "code",
   "execution_count": 12,
   "id": "976533d6",
   "metadata": {
    "ExecuteTime": {
     "end_time": "2021-11-04T18:18:32.912567Z",
     "start_time": "2021-11-04T18:18:32.893244Z"
    }
   },
   "outputs": [
    {
     "data": {
      "text/plain": [
       "array([[1, 0, 0, 0],\n",
       "       [0, 0, 0, 1],\n",
       "       [0, 0, 1, 0],\n",
       "       [0, 1, 0, 0]])"
      ]
     },
     "execution_count": 12,
     "metadata": {},
     "output_type": "execute_result"
    }
   ],
   "source": [
    "# If a different order is required, it must be specified\n",
    "g.matrix(order=['b', 'a'])"
   ]
  },
  {
   "cell_type": "markdown",
   "id": "68e550a9",
   "metadata": {},
   "source": [
    "**HybridQ** also allows users to split any gate in terms of its Schmidt decomposition. More precisely, given any gate $G$ acting on two subset of qubits, it is possible to write $G$ as:\n",
    "$$\n",
    "    G = \\sum_i s_i\\, G^{(1)}_i \\otimes G^{(2)}_i\n",
    "$$\n",
    "with $s_i$ being real and positive weights, and $G_i^{(1)}$ and $G_i^{(2)}$ being gates acting only on either the first or the second subset of qubits respectively."
   ]
  },
  {
   "cell_type": "code",
   "execution_count": 13,
   "id": "8410185a",
   "metadata": {
    "ExecuteTime": {
     "end_time": "2021-11-04T18:18:32.965290Z",
     "start_time": "2021-11-04T18:18:32.915360Z"
    }
   },
   "outputs": [
    {
     "name": "stdout",
     "output_type": "stream",
     "text": [
      "Weights: [1.82742925 0.46922004 0.46922004 0.46922004]\n",
      "Left gates:\n",
      "\t MatrixGate(name='MATRIX', qubits=(1,), M=numpy.ndarray(shape=(2, 2), dtype=complex128))\n",
      "\t MatrixGate(name='MATRIX', qubits=(1,), M=numpy.ndarray(shape=(2, 2), dtype=complex128))\n",
      "\t MatrixGate(name='MATRIX', qubits=(1,), M=numpy.ndarray(shape=(2, 2), dtype=complex128))\n",
      "\t MatrixGate(name='MATRIX', qubits=(1,), M=numpy.ndarray(shape=(2, 2), dtype=complex128))\n",
      "\n",
      "Right gates:\n",
      "\t MatrixGate(name='MATRIX', qubits=(1,), M=numpy.ndarray(shape=(2, 2), dtype=complex128))\n",
      "\t MatrixGate(name='MATRIX', qubits=(1,), M=numpy.ndarray(shape=(2, 2), dtype=complex128))\n",
      "\t MatrixGate(name='MATRIX', qubits=(1,), M=numpy.ndarray(shape=(2, 2), dtype=complex128))\n",
      "\t MatrixGate(name='MATRIX', qubits=(1,), M=numpy.ndarray(shape=(2, 2), dtype=complex128))\n"
     ]
    }
   ],
   "source": [
    "# Load the gate utils\n",
    "from hybridq.gate import utils as gate_utils\n",
    "\n",
    "# Get gate\n",
    "g = Gate('FSIM', qubits=[1, 2], params=[1.1, 2.2])**3.3\n",
    "\n",
    "# Return the Schmidt decomposition of gate\n",
    "s = gate_utils.decompose(g, qubits=[1])\n",
    "\n",
    "# Print weights\n",
    "print('Weights:', s.s)\n",
    "\n",
    "# Print \"left\" gates\n",
    "print('Left gates:')\n",
    "for _g in s.gates[0]:\n",
    "    print('\\t', _g)\n",
    "\n",
    "# Print \"right\" gates\n",
    "print('\\nRight gates:')\n",
    "for _g in s.gates[0]:\n",
    "    print('\\t', _g)\n",
    "\n",
    "# Gate can be easily recomposed using the complementary function\n",
    "g_merged = MatrixGate(sum(s * gate_utils.merge(g1, g2).matrix(order=g.qubits)\n",
    "                          for s, g1, g2 in zip(s.s, *s.gates)),\n",
    "                      qubits=g.qubits)\n",
    "\n",
    "# Check\n",
    "assert (g.isclose(g_merged))"
   ]
  },
  {
   "cell_type": "code",
   "execution_count": 14,
   "id": "def27173",
   "metadata": {
    "ExecuteTime": {
     "end_time": "2021-11-04T18:18:33.002529Z",
     "start_time": "2021-11-04T18:18:32.967735Z"
    }
   },
   "outputs": [
    {
     "name": "stdout",
     "output_type": "stream",
     "text": [
      "Cannot check commutation between virtual gates.\n"
     ]
    }
   ],
   "source": [
    "# HybridQ also provides a way to check if two gates commute\n",
    "g1 = Gate('CX', [0, 1])\n",
    "g2 = Gate('X', [1])\n",
    "\n",
    "# Since the 'X' gate is acting on the controlled qubit, g1 and g2 should commute\n",
    "assert (g1.commutes_with(g2))\n",
    "\n",
    "# However, it won't commute if X would act on the controlling qubit\n",
    "assert (not g1.commutes_with(g2.on([0])))\n",
    "\n",
    "# Gates not sharing any qubits always commute\n",
    "assert (g1.commutes_with(Gate('U3', qubits=[3], params=[1, 2, 3])))\n",
    "\n",
    "# Commutation is only available for gate with qubits\n",
    "try:\n",
    "    g1.commutes_with(Gate('X'))\n",
    "except Exception as e:\n",
    "    print(e)\n",
    "else:\n",
    "    raise RuntimeError(\"Something went wrong\")"
   ]
  },
  {
   "cell_type": "markdown",
   "id": "3b56aa0e",
   "metadata": {},
   "source": [
    "Gates can be conjugated and transposed:"
   ]
  },
  {
   "cell_type": "code",
   "execution_count": 15,
   "id": "3b3d9f4b",
   "metadata": {
    "ExecuteTime": {
     "end_time": "2021-11-04T18:18:33.031956Z",
     "start_time": "2021-11-04T18:18:33.004882Z"
    }
   },
   "outputs": [
    {
     "name": "stdout",
     "output_type": "stream",
     "text": [
      "Gate_FSIM^T(name='FSIM', n_qubits=2, params=(1, 2))\n",
      "Gate_FSIM^*(name='FSIM', n_qubits=2, params=(1, 2))\n",
      "Gate_FSIM^+(name='FSIM', n_qubits=2, params=(1, 2))\n"
     ]
    }
   ],
   "source": [
    "# \n",
    "g = Gate('FSIM', params=[1, 2])\n",
    "gt = g.T()\n",
    "gc = g.conj()\n",
    "ga = g.adj()\n",
    "\n",
    "print(gt)\n",
    "print(gc)\n",
    "print(ga)\n",
    "\n",
    "assert (gt.is_transposed())\n",
    "assert (gc.is_conjugated())\n",
    "assert (ga.is_conjugated())\n",
    "assert (ga.is_transposed())\n",
    "\n",
    "# Checks\n",
    "np.testing.assert_allclose(g.matrix().T, gt.matrix())\n",
    "np.testing.assert_allclose(g.matrix().conj(), gc.matrix())\n",
    "np.testing.assert_allclose(g.matrix().conj().T, ga.matrix())"
   ]
  },
  {
   "cell_type": "markdown",
   "id": "01a13c62",
   "metadata": {},
   "source": [
    "**HybridQ** supports self-adjoint gates"
   ]
  },
  {
   "cell_type": "code",
   "execution_count": 16,
   "id": "ebe94305",
   "metadata": {
    "ExecuteTime": {
     "end_time": "2021-11-04T18:18:33.059898Z",
     "start_time": "2021-11-04T18:18:33.034040Z"
    }
   },
   "outputs": [
    {
     "name": "stdout",
     "output_type": "stream",
     "text": [
      "Gate_Y(name='Y', n_qubits=1, M=numpy.ndarray(shape=(2, 2), dtype=complex128))\n",
      "Gate_Y^*(name='Y', n_qubits=1, M=numpy.ndarray(shape=(2, 2), dtype=complex128))\n",
      "Gate_Y^T(name='Y', n_qubits=1, M=numpy.ndarray(shape=(2, 2), dtype=complex128))\n",
      "Gate_Y(name='Y', n_qubits=1, M=numpy.ndarray(shape=(2, 2), dtype=complex128))\n",
      "Gate_Y^+(name='Y', n_qubits=1, M=numpy.ndarray(shape=(2, 2), dtype=complex128))**1.1\n"
     ]
    }
   ],
   "source": [
    "g = Gate('Y')\n",
    "\n",
    "# Print gates\n",
    "print(g)\n",
    "print(g.conj())\n",
    "print(g.T())\n",
    "print(g.conj().T())\n",
    "\n",
    "# Check\n",
    "assert (g.conj().T() == g)\n",
    "assert (not g.conj() == g)\n",
    "assert (not g.T() == g)\n",
    "assert (g.adj() == g)\n",
    "\n",
    "# This also apply for the inverse\n",
    "assert (g.inv() == g)\n",
    "assert (g.adj() == g)\n",
    "\n",
    "# This is not true anymore if any power different from 1 or -1 is applied\n",
    "print((g**1.1).adj())\n",
    "\n",
    "# Check\n",
    "assert (g**-1 == g)\n",
    "assert ((g**1.1).adj() != g)"
   ]
  },
  {
   "cell_type": "markdown",
   "id": "22cb9fdd",
   "metadata": {},
   "source": [
    "### Functional Gate\n",
    "\n",
    "**HybridQ** supports different functional gates that allow a great control on the quantum circuit simulation. At the moment, **HybridQ** supports the following functional gates:\n",
    "\n",
    "<od>\n",
    "    <li><code>Control</code>\n",
    "    <li><code>TupleGate</code>\n",
    "    <li><code>SchmidtGate</code>\n",
    "    <li><code>StochasticGate</code>\n",
    "    <li><code>Projection</code>\n",
    "    <li><code>Measure</code>\n",
    "    <li><code>FunctionalGate</code>\n",
    "</od>\n",
    "\n",
    "#### <code>Control</code>\n",
    "\n",
    "As the name suggests, this functional gate allows to create any controlled gate. Controlled gates extend any gate to only activate when all of the control qbits are |1>."
   ]
  },
  {
   "cell_type": "code",
   "execution_count": 17,
   "id": "fd54678f",
   "metadata": {
    "ExecuteTime": {
     "end_time": "2021-11-04T18:18:33.088479Z",
     "start_time": "2021-11-04T18:18:33.062187Z"
    }
   },
   "outputs": [
    {
     "name": "stdout",
     "output_type": "stream",
     "text": [
      "Controlled_MatrixGate(name='CCCMATRIX', n_qubits=7, c_qubits=(('x', 1), ('y', 2), ('z', 3)), qubits=(('x', 1), ('y', 2), ..., c, d), gate=MatrixGate(name='MATRIX', qubits=('a', 'b', 'c', 'd'), M=numpy.ndarray(shape=(16, 16), dtype=float64)))\n"
     ]
    }
   ],
   "source": [
    "# Import control gate\n",
    "from hybridq.gate import Control\n",
    "\n",
    "# Let's create a random gate\n",
    "g = MatrixGate(np.random.random((2**4, 2**4)), qubits='abcd')\n",
    "\n",
    "# Create a control gate with 3 controlling qubits\n",
    "cg = Control(c_qubits=[('x', 1), ('y', 2), ('z', 3)], gate=g)\n",
    "# g is provided as the gate to be controlled.\n",
    "# Now the g gate will only be applied when the 3 controlling qubits are all |1>\n",
    "\n",
    "# Print gate\n",
    "print(cg)\n",
    "\n",
    "# Initialize matrix with identity\n",
    "U = np.reshape(np.eye(2**cg.n_qubits),\n",
    "               (2, ) * 3 + (2**4, ) + (2, ) * 3 + (2**4, ))\n",
    "\n",
    "# Apply g.matrix only when all controlling qubits are 1\n",
    "U[(1, 1, 1, slice(2**4), 1, 1, 1, slice(2**4))] = g.matrix()\n",
    "\n",
    "# Reshape to the right shape\n",
    "U = np.reshape(U, (2**7, 2**7))\n",
    "\n",
    "# Check\n",
    "np.testing.assert_allclose(U, cg.matrix())"
   ]
  },
  {
   "cell_type": "markdown",
   "id": "4fd5c893",
   "metadata": {
    "ExecuteTime": {
     "end_time": "2021-10-27T22:36:54.018747Z",
     "start_time": "2021-10-27T22:36:54.001377Z"
    }
   },
   "source": [
    "#### <code>TupleGate</code>\n",
    "\n",
    "<code>TupleGate</code> gathers together multiple gates. The combined TupleGate can then be treated as a single gate. For example,"
   ]
  },
  {
   "cell_type": "code",
   "execution_count": 18,
   "id": "809288ed",
   "metadata": {
    "ExecuteTime": {
     "end_time": "2021-11-04T18:18:33.115955Z",
     "start_time": "2021-11-04T18:18:33.090833Z"
    }
   },
   "outputs": [
    {
     "name": "stdout",
     "output_type": "stream",
     "text": [
      "Qubits: (1, 'a', 'b')\n",
      "Number of qubits: 3\n"
     ]
    }
   ],
   "source": [
    "# Import TupleGate\n",
    "from hybridq.gate import TupleGate\n",
    "from hybridq.utils import sort\n",
    "\n",
    "# Let's define some gates ...\n",
    "g1 = Gate('X')\n",
    "g2 = Gate('Y', qubits='a')\n",
    "g3 = Gate('swap', qubits='ab')\n",
    "\n",
    "# ... and create a TupleGate\n",
    "tg = TupleGate((g1, g2, g3))\n",
    "\n",
    "# If some gates do not have qubits, both qubits and n_qubits are None\n",
    "assert (tg.qubits is None and tg.n_qubits is None)\n",
    "\n",
    "# If every gate has qubits, when TupleGate will have\n",
    "# all qubits (counted once) from every gate\n",
    "tg[0].on([1], inplace=True)\n",
    "\n",
    "# For consistency, qubits are always sorted using 'hybridq.utils.sort'\n",
    "print(f'Qubits: {tg.qubits}')\n",
    "print(f'Number of qubits: {tg.n_qubits}')"
   ]
  },
  {
   "cell_type": "markdown",
   "id": "83ccabcb",
   "metadata": {},
   "source": [
    "Once a tuple is created, you can add additional gates using the addition operator (i.e., '+'),"
   ]
  },
  {
   "cell_type": "code",
   "execution_count": 19,
   "id": "d197fa9d",
   "metadata": {
    "ExecuteTime": {
     "end_time": "2021-11-04T18:18:33.143899Z",
     "start_time": "2021-11-04T18:18:33.118382Z"
    }
   },
   "outputs": [],
   "source": [
    "# It is possible to add gates ...\n",
    "tg = tg + (g2, g3)\n",
    "\n",
    "# ... and one can concatenate multiple tuples\n",
    "tg = tg + (tg, tg)\n",
    "tg = tg + (tg, tg)\n",
    "\n",
    "# Check that gates and number of gates haven't changed\n",
    "assert (tg.n_qubits == 3 and tg.qubits == tuple(sort(['a', 'b', 1])))"
   ]
  },
  {
   "cell_type": "markdown",
   "id": "ac3e4e0d",
   "metadata": {},
   "source": [
    " The TupleGate also provides a way to flatten the collection"
   ]
  },
  {
   "cell_type": "code",
   "execution_count": 20,
   "id": "d8d47ea0",
   "metadata": {
    "ExecuteTime": {
     "end_time": "2021-11-04T18:18:33.178767Z",
     "start_time": "2021-11-04T18:18:33.145970Z"
    }
   },
   "outputs": [
    {
     "name": "stdout",
     "output_type": "stream",
     "text": [
      "TupleGate(name='TUPLE', Gate_X(name='X', qubits=(1,), M=numpy.ndarray(shape=(2, 2), dtype=int64)), Gate_Y(name='Y', qubits=('a',), M=numpy.ndarray(shape=(2, 2), dtype=complex128)), Gate_SWAP(name='SWAP', qubits=('a', 'b'), M=numpy.ndarray(shape=(4, 4), dtype=int64)), Gate_Y(name='Y', qubits=('a',), M=numpy.ndarray(shape=(2, 2), dtype=complex128)), Gate_SWAP(name='SWAP', qubits=('a', 'b'), M=numpy.ndarray(shape=(4, 4), dtype=int64)), Gate_X(name='X', qubits=(1,), M=numpy.ndarray(shape=(2, 2), dtype=int64)), Gate_Y(name='Y', qubits=('a',), M=numpy.ndarray(shape=(2, 2), dtype=complex128)), Gate_SWAP(name='SWAP', qubits=('a', 'b'), M=numpy.ndarray(shape=(4, 4), dtype=int64)), Gate_Y(name='Y', qubits=('a',), M=numpy.ndarray(shape=(2, 2), dtype=complex128)), Gate_SWAP(name='SWAP', qubits=('a', 'b'), M=numpy.ndarray(shape=(4, 4), dtype=int64)), Gate_X(name='X', qubits=(1,), M=numpy.ndarray(shape=(2, 2), dtype=int64)), Gate_Y(name='Y', qubits=('a',), M=numpy.ndarray(shape=(2, 2), dtype=complex128)), Gate_SWAP(name='SWAP', qubits=('a', 'b'), M=numpy.ndarray(shape=(4, 4), dtype=int64)), Gate_Y(name='Y', qubits=('a',), M=numpy.ndarray(shape=(2, 2), dtype=complex128)), Gate_SWAP(name='SWAP', qubits=('a', 'b'), M=numpy.ndarray(shape=(4, 4), dtype=int64)), Gate_X(name='X', qubits=(1,), M=numpy.ndarray(shape=(2, 2), dtype=int64)), Gate_Y(name='Y', qubits=('a',), M=numpy.ndarray(shape=(2, 2), dtype=complex128)), Gate_SWAP(name='SWAP', qubits=('a', 'b'), M=numpy.ndarray(shape=(4, 4), dtype=int64)), Gate_Y(name='Y', qubits=('a',), M=numpy.ndarray(shape=(2, 2), dtype=complex128)), Gate_SWAP(name='SWAP', qubits=('a', 'b'), M=numpy.ndarray(shape=(4, 4), dtype=int64)), Gate_X(name='X', qubits=(1,), M=numpy.ndarray(shape=(2, 2), dtype=int64)), Gate_Y(name='Y', qubits=('a',), M=numpy.ndarray(shape=(2, 2), dtype=complex128)), Gate_SWAP(name='SWAP', qubits=('a', 'b'), M=numpy.ndarray(shape=(4, 4), dtype=int64)), Gate_Y(name='Y', qubits=('a',), M=numpy.ndarray(shape=(2, 2), dtype=complex128)), Gate_SWAP(name='SWAP', qubits=('a', 'b'), M=numpy.ndarray(shape=(4, 4), dtype=int64)), Gate_X(name='X', qubits=(1,), M=numpy.ndarray(shape=(2, 2), dtype=int64)), Gate_Y(name='Y', qubits=('a',), M=numpy.ndarray(shape=(2, 2), dtype=complex128)), Gate_SWAP(name='SWAP', qubits=('a', 'b'), M=numpy.ndarray(shape=(4, 4), dtype=int64)), Gate_Y(name='Y', qubits=('a',), M=numpy.ndarray(shape=(2, 2), dtype=complex128)), Gate_SWAP(name='SWAP', qubits=('a', 'b'), M=numpy.ndarray(shape=(4, 4), dtype=int64)), Gate_X(name='X', qubits=(1,), M=numpy.ndarray(shape=(2, 2), dtype=int64)), Gate_Y(name='Y', qubits=('a',), M=numpy.ndarray(shape=(2, 2), dtype=complex128)), Gate_SWAP(name='SWAP', qubits=('a', 'b'), M=numpy.ndarray(shape=(4, 4), dtype=int64)), Gate_Y(name='Y', qubits=('a',), M=numpy.ndarray(shape=(2, 2), dtype=complex128)), Gate_SWAP(name='SWAP', qubits=('a', 'b'), M=numpy.ndarray(shape=(4, 4), dtype=int64)), Gate_X(name='X', qubits=(1,), M=numpy.ndarray(shape=(2, 2), dtype=int64)), Gate_Y(name='Y', qubits=('a',), M=numpy.ndarray(shape=(2, 2), dtype=complex128)), Gate_SWAP(name='SWAP', qubits=('a', 'b'), M=numpy.ndarray(shape=(4, 4), dtype=int64)), Gate_Y(name='Y', qubits=('a',), M=numpy.ndarray(shape=(2, 2), dtype=complex128)), Gate_SWAP(name='SWAP', qubits=('a', 'b'), M=numpy.ndarray(shape=(4, 4), dtype=int64)), Gate_X(name='X', qubits=(1,), M=numpy.ndarray(shape=(2, 2), dtype=int64)), Gate_Y(name='Y', qubits=('a',), M=numpy.ndarray(shape=(2, 2), dtype=complex128)), Gate_SWAP(name='SWAP', qubits=('a', 'b'), M=numpy.ndarray(shape=(4, 4), dtype=int64)), Gate_Y(name='Y', qubits=('a',), M=numpy.ndarray(shape=(2, 2), dtype=complex128)), Gate_SWAP(name='SWAP', qubits=('a', 'b'), M=numpy.ndarray(shape=(4, 4), dtype=int64)))\n"
     ]
    }
   ],
   "source": [
    "print(tg.flatten())"
   ]
  },
  {
   "cell_type": "markdown",
   "id": "32cd715f",
   "metadata": {},
   "source": [
    "#### <code>SchmidtGate</code>\n",
    "\n",
    "As the name suggest, a <code>SchmidtGate</code> allow to create a gate from its Schmidt decomposition. More precisely, it allows to define gates as:\n",
    "$$\n",
    "S = \\sum_{ij} s_{ij}\\,G^{(1)}_i \\otimes G^{(2)}_j\n",
    "$$\n",
    "with $s_{ij}$ being an arbitrary matrix of real and positive weights, and $G^{(1)}_i$ and $G^{(2)}_j$ are gates acting on two different set of qubits. The <code>SchmidtGate</code> is also the gate returned by <code>hybridq.gate.utils.decompose</code>."
   ]
  },
  {
   "cell_type": "code",
   "execution_count": 21,
   "id": "2d33538f",
   "metadata": {
    "ExecuteTime": {
     "end_time": "2021-11-04T18:18:33.303748Z",
     "start_time": "2021-11-04T18:18:33.180568Z"
    }
   },
   "outputs": [],
   "source": [
    "# Import SchmidtGate\n",
    "from hybridq.gate import SchmidtGate, MatrixGate\n",
    "\n",
    "# Let's create some random gates ...\n",
    "G1 = [\n",
    "    MatrixGate(np.random.random((4, 4)), qubits='ab'),\n",
    "    MatrixGate(np.random.random((4, 4)), qubits='cb'),\n",
    "    MatrixGate(np.random.random((2, 2)), qubits='b'),\n",
    "]\n",
    "G2 = [\n",
    "    MatrixGate(np.random.random((4, 4)), qubits=[2, 3]),\n",
    "    MatrixGate(np.random.random((4, 4)), qubits=[5, 3]),\n",
    "    MatrixGate(np.random.random((4, 4)), qubits=[(0, 1), 2]),\n",
    "    MatrixGate(np.random.random((2, 2)), qubits=[2]),\n",
    "]\n",
    "\n",
    "# ... and random weights\n",
    "w = np.random.random((3, 4))\n",
    "\n",
    "# Create SchmidtGate\n",
    "S = SchmidtGate(gates=(G1, G2), s=w)\n",
    "\n",
    "#assert (type(gate_utils.decompose(Gate('X', [1]), [1])) == type(S))\n",
    "\n",
    "# Qubits in SchmidtGate's are ordered so that \"left\" qubits\n",
    "# appear before than the \"right\" qubits\n",
    "assert (S.qubits == S.gates[0].qubits + S.gates[1].qubits)\n",
    "\n",
    "# Let's check the SchmidtGate by manually merging the gates\n",
    "#\n",
    "# First, we need to extend all gates in G1 and G2 to the right number of qubits, ...\n",
    "_G1 = [gate_utils.merge(g, Gate('I', qubits=S.qubits)) for g in G1]\n",
    "_G2 = [gate_utils.merge(g, Gate('I', qubits=S.qubits)) for g in G2]\n",
    "\n",
    "# ... we can then sum all matrices using the right order ...\n",
    "U = np.sum([\n",
    "    S.s[i, j] * gate_utils.merge(_G1[i], _G2[j]).matrix(order=S.qubits)\n",
    "    for i in range(len(G1)) for j in range(len(G2))\n",
    "],\n",
    "           axis=0)\n",
    "\n",
    "# ... and check that everything is ok\n",
    "np.testing.assert_allclose(U, S.matrix())"
   ]
  },
  {
   "cell_type": "markdown",
   "id": "5f681bd9",
   "metadata": {
    "ExecuteTime": {
     "end_time": "2021-10-27T23:36:25.243863Z",
     "start_time": "2021-10-27T23:36:25.190289Z"
    }
   },
   "source": [
    "#### <code>StochasticGate</code>\n",
    "\n",
    "<code>StochasticGate</code>'s are used to define a set of gates that are stochastically applied to a circuit with a given probability <code>p</code>. Let's consider the case of a simple depolarizing channel of the form:\n",
    "$$\n",
    "    \\rho \\rightarrow \\mathcal{E}(\\rho) = (1-p)\\,\\rho \n",
    "        + \\frac{p}{3}\\,\\sigma_x \\rho\\, \\sigma_z \n",
    "        + \\frac{p}{3}\\,\\sigma_y \\rho\\, \\sigma_z \n",
    "        + \\frac{p}{3}\\,\\sigma_z \\rho\\, \\sigma_z \n",
    "$$\n",
    "with $\\sigma_x$, $\\sigma_y$ and $\\sigma_z$ being the Pauli matrices. Since the noise channel is composed of unitary matrices, the evolution of the quantum state can be done by running the quantum circuit simulations multiple times, each time randomly sampling from the noise channel either the identity (with probability $1-p$), or the $\\sigma_x$/$\\sigma_y$/$\\sigma_z$ gate (with probability $p/3$). The <code>StochasticGate</code> allows to easily represent such cases."
   ]
  },
  {
   "cell_type": "code",
   "execution_count": 22,
   "id": "b4e4683e",
   "metadata": {
    "ExecuteTime": {
     "end_time": "2021-11-04T18:18:40.016105Z",
     "start_time": "2021-11-04T18:18:33.305919Z"
    }
   },
   "outputs": [
    {
     "name": "stdout",
     "output_type": "stream",
     "text": [
      "['Z', 'I', 'I', 'Z', 'I', 'I', 'I', 'I', 'I', 'Z']\n"
     ]
    }
   ],
   "source": [
    "# Import StochasticGate\n",
    "from hybridq.gate import StochasticGate\n",
    "from collections import Counter\n",
    "\n",
    "# Let's define the depolarizing probability\n",
    "p = 0.42\n",
    "\n",
    "# Define the four gates in the depolarizing channel\n",
    "I, X, Y, Z = [Gate(g, [0]) for g in 'IXYZ']\n",
    "\n",
    "# Define the stochastic gate\n",
    "S = StochasticGate(gates=[I, X, Y, Z], p=[1 - p, p / 3, p / 3, p / 3])\n",
    "\n",
    "# We can sample multiple times from S\n",
    "print([g.name for g in S.sample(10)])\n",
    "\n",
    "# Let's count the number of times the gate appear in the sample\n",
    "# (it may take a while)\n",
    "_count = Counter(g.name for g in S.sample(1000000))\n",
    "\n",
    "# Check\n",
    "assert (np.isclose(_count['I'] / 1000000, 1 - p, atol=1e-3))\n",
    "assert (np.isclose(_count['X'] / 1000000, p / 3, atol=1e-3))\n",
    "assert (np.isclose(_count['Y'] / 1000000, p / 3, atol=1e-3))\n",
    "assert (np.isclose(_count['Z'] / 1000000, p / 3, atol=1e-3))"
   ]
  },
  {
   "cell_type": "markdown",
   "id": "64ad7f50",
   "metadata": {},
   "source": [
    "#### <code>Projection</code> and <code>Measure</code>\n",
    "\n",
    "The gate <code>Projection</code> can be used to project qubits to a specific state."
   ]
  },
  {
   "cell_type": "code",
   "execution_count": 23,
   "id": "59a3c014",
   "metadata": {
    "ExecuteTime": {
     "end_time": "2021-11-04T18:18:40.038546Z",
     "start_time": "2021-11-04T18:18:40.017670Z"
    }
   },
   "outputs": [],
   "source": [
    "# Import Projection\n",
    "from hybridq.gate import Projection\n",
    "\n",
    "# Let's define a random quantum state of 5 qubits\n",
    "psi = np.random.random((2, ) * 5) + 1j * np.random.random((2, ) * 5)\n",
    "psi /= np.linalg.norm(psi.ravel())\n",
    "\n",
    "# Define some qubits ...\n",
    "qubits = np.random.randint(2**32, size=5)\n",
    "\n",
    "# ... and the subset to project\n",
    "p_qubits = np.random.choice(qubits, size=2, replace=False).tolist()\n",
    "\n",
    "# Set the desired state to project the p_qubits\n",
    "p_state = bin(np.random.randint(2**2))[2:].zfill(2)\n",
    "\n",
    "# Create projection\n",
    "P = Projection(state=p_state, qubits=p_qubits)\n",
    "\n",
    "# Project quantum state\n",
    "p_psi, _ = P(psi=psi, order=qubits)\n",
    "\n",
    "# Let's check that the projection is correct\n",
    "_psi = np.zeros_like(psi)\n",
    "_proj = tuple(\n",
    "    int(p_state[p_qubits.index(q)]) if q in p_qubits else slice(2)\n",
    "    for q in qubits)\n",
    "_psi[_proj] = psi[_proj]\n",
    "_psi /= np.linalg.norm(_psi.ravel())\n",
    "\n",
    "# Check\n",
    "np.testing.assert_allclose(_psi, p_psi)"
   ]
  },
  {
   "cell_type": "markdown",
   "id": "b6e60262",
   "metadata": {
    "ExecuteTime": {
     "end_time": "2021-10-28T00:30:05.151657Z",
     "start_time": "2021-10-28T00:30:05.108712Z"
    }
   },
   "source": [
    "<code>Measure</code> gates is to <code>Projection</code> gates. However, unlike <code>Projection</code> gates, <code>Measure</code> gates project qubits to a given state with a probability given by the quantum state (that is, projection are sampled with the right quantum distribution)."
   ]
  },
  {
   "cell_type": "code",
   "execution_count": 24,
   "id": "bce78f87",
   "metadata": {
    "ExecuteTime": {
     "end_time": "2021-11-04T18:18:40.105638Z",
     "start_time": "2021-11-04T18:18:40.040293Z"
    }
   },
   "outputs": [
    {
     "name": "stderr",
     "output_type": "stream",
     "text": [
      "/home/dagart/local/miniconda3/envs/hybridq/lib/python3.8/site-packages/hybridq/utils/transpose.py:166: UserWarning: Fallback to 'numpy.transpose'\n",
      "  warn(\"Fallback to 'numpy.transpose'\")\n"
     ]
    }
   ],
   "source": [
    "# Import Measure\n",
    "from hybridq.gate import Measure\n",
    "\n",
    "# Let's define a random quantum state of 5 qubits\n",
    "psi = np.random.random((2, ) * 5) + 1j * np.random.random((2, ) * 5)\n",
    "psi /= np.linalg.norm(psi.ravel())\n",
    "\n",
    "# Define some qubits ...\n",
    "qubits = np.random.randint(2**32, size=5)\n",
    "\n",
    "# ... and the subset two project\n",
    "p_qubits = np.random.choice(qubits, size=2, replace=False).tolist()\n",
    "\n",
    "# Set the desired state to project the p_qubits\n",
    "p_state = bin(np.random.randint(2**2))[2:].zfill(2)\n",
    "\n",
    "# Create measurement\n",
    "M = Measure(qubits=p_qubits)\n",
    "\n",
    "# Measure quantum state\n",
    "p_psi, _ = M(psi=psi, order=qubits)"
   ]
  },
  {
   "cell_type": "markdown",
   "id": "6e96fec9",
   "metadata": {},
   "source": [
    "#### <code>FunctionalGate</code>\n",
    "\n",
    "<code>FunctionalGate</code>'s are the most general gate that are implementable in **HybridQ**. More precisely, <code>FunctionalGate</code>'s allow to directly manipulate the quantum state using a defined function to easily implement gates (such as oracle) that would be hard to implement otherwise.\n",
    "\n",
    "In the following example, we will show how to implement a Grover oracle in **HybridQ**."
   ]
  },
  {
   "cell_type": "code",
   "execution_count": 25,
   "id": "c9cf515d",
   "metadata": {
    "ExecuteTime": {
     "end_time": "2021-11-04T18:18:40.184953Z",
     "start_time": "2021-11-04T18:18:40.112472Z"
    }
   },
   "outputs": [
    {
     "name": "stdout",
     "output_type": "stream",
     "text": [
      "FunctionalGate(name='FUNCTIONAL', n_qubits=3)\n",
      "  000: +0.353553\n",
      "  001: +0.353553\n",
      "  010: +0.353553\n",
      "  011: +0.353553\n",
      "  100: +0.353553\n",
      "  101: +0.353553\n",
      "  110: +0.353553\n",
      "* 111: -0.353553\n"
     ]
    }
   ],
   "source": [
    "# Import FunctionalGate\n",
    "from hybridq.gate import FunctionalGate, Projection\n",
    "\n",
    "# Let's define the target state\n",
    "target_state = bin(np.random.randint(2**3))[2:].zfill(3)\n",
    "\n",
    "\n",
    "# FunctionalGate requires two objects: the function to apply\n",
    "# to the quantum state and the qubits the gate will act on\n",
    "#\n",
    "# First, let's define the functional for the FunctionalGate\n",
    "def grover(self, psi, order):\n",
    "    \"\"\"\n",
    "    Given a quantum state ‘psi‘ with qubits given\n",
    "    by ‘order‘, invert the phase of the state\n",
    "    0....0.\n",
    "    \n",
    "    Parameters\n",
    "    ----------\n",
    "    psi:\n",
    "        Because of internal optimizations, any functional\n",
    "        for the 'FunctionalGate' must accept two different \n",
    "        format for 'psi': either an n-dimensional array of\n",
    "        complex numbers (with 'n' the number of qubits) or\n",
    "        a pair of n-dimensional arrays of real number, the\n",
    "        first one representing the real part of the quantum\n",
    "        state while the second one representing its imaginary\n",
    "        part.\n",
    "        \n",
    "        In this case, 'Projection' is already able to distinguish\n",
    "        between the two cases.\n",
    "    order:\n",
    "        It is the order of qubits used to represent 'psi'\n",
    "        \n",
    "    Returns\n",
    "    -------\n",
    "    new_psi, new_order\n",
    "    \"\"\"\n",
    "\n",
    "    # Check\n",
    "    assert (len(target_state) == self.n_qubits)\n",
    "\n",
    "    # First, let’s create a projector\n",
    "    proj = Projection(state=target_state, qubits=self.qubits)\n",
    "\n",
    "    # Project quantum state\n",
    "    psi0, new_order = proj(psi=psi, order=order, renormalize=False)\n",
    "\n",
    "    # Check that order hasn’t changed\n",
    "    assert (new_order == order)\n",
    "\n",
    "    # Update quantum state\n",
    "    psi -= 2 * psi0\n",
    "\n",
    "    # Return quantum state\n",
    "    return psi, order\n",
    "\n",
    "\n",
    "# Then, one can create the Grover gate as follows\n",
    "grover_gate = FunctionalGate(f=grover, n_qubits=3)\n",
    "\n",
    "# Print\n",
    "print(grover_gate)\n",
    "\n",
    "# FunctionalGate's provide qubits and n_qubits, but not matrix\n",
    "assert (grover_gate.provides('qubits,n_qubits'))\n",
    "assert (not grover_gate.provides('matrix'))\n",
    "\n",
    "# Define a superposition of three qubits\n",
    "psi = np.ones(shape=(2, 2, 2), dtype='complex')\n",
    "psi /= np.linalg.norm(psi)\n",
    "\n",
    "# Apply Grover gate to state\n",
    "new_psi, _ = grover_gate.on([0, 1, 2])(psi, order=[0, 1, 2])\n",
    "\n",
    "# Print output (the state with '*' should have the sign inverted)\n",
    "for i, x in enumerate(new_psi.ravel()):\n",
    "    # Pad bitstring\n",
    "    i = bin(i)[2:].zfill(3)\n",
    "\n",
    "    # Print\n",
    "    print('{0} {1}: {2:+g}'.format('*' if i == target_state else ' ', i,\n",
    "                                   np.real_if_close(x)))"
   ]
  },
  {
   "cell_type": "markdown",
   "id": "1f87e5f4",
   "metadata": {},
   "source": [
    "## Define new Named Gates\n",
    "\n",
    "**HybridQ** allows the users to define new <code>NamedGate</code>s to use across the library."
   ]
  },
  {
   "cell_type": "code",
   "execution_count": 26,
   "id": "b12ce9f1",
   "metadata": {
    "ExecuteTime": {
     "end_time": "2021-11-04T18:18:40.236250Z",
     "start_time": "2021-11-04T18:18:40.190349Z"
    }
   },
   "outputs": [
    {
     "data": {
      "text/plain": [
       "dict_keys(['I', 'H', 'X', 'Y', 'Z', 'U3', 'R_PI_2', 'ZZ', 'CZ', 'CX', 'SWAP', 'ISWAP', 'CPHASE', 'FSIM', 'RX', 'RY', 'RZ', 'SQRT_X', 'SQRT_Y', 'P', 'T', 'SQRT_SWAP', 'SQRT_ISWAP'])"
      ]
     },
     "execution_count": 26,
     "metadata": {},
     "output_type": "execute_result"
    }
   ],
   "source": [
    "# All named gates are defined in 'hybridq.gate.gate._available_gates'\n",
    "from hybridq.gate.gate import _available_gates\n",
    "\n",
    "# '_available_gates' is a dictionary with each key being a gate.\n",
    "# All keys must be upper case.\n",
    "_available_gates.keys()"
   ]
  },
  {
   "cell_type": "code",
   "execution_count": 27,
   "id": "d72ebb2b",
   "metadata": {
    "ExecuteTime": {
     "end_time": "2021-11-04T18:18:40.261768Z",
     "start_time": "2021-11-04T18:18:40.239884Z"
    }
   },
   "outputs": [
    {
     "data": {
      "text/plain": [
       "{'mro': (hybridq.gate.property.ParamGate,\n",
       "  hybridq.gate.property.UnitaryGate,\n",
       "  hybridq.gate.property.QubitGate,\n",
       "  hybridq.base.property.Tags,\n",
       "  hybridq.base.property.Name),\n",
       " 'methods': {},\n",
       " 'static_dict': {'n_qubits': 2,\n",
       "  'n_params': 1,\n",
       "  'Matrix_gen': <function hybridq.gate.gate.<lambda>(self, p)>}}"
      ]
     },
     "execution_count": 27,
     "metadata": {},
     "output_type": "execute_result"
    }
   ],
   "source": [
    "# Every gate requires a dictionary with the following keys:\n",
    "# - 'mro': The set of properties the NamedGate will inherit from\n",
    "# - 'methods': Extra methods to add to the NamedGate\n",
    "# - 'static_dict': A dictionary will all the required static variables\n",
    "# - 'docstring': Help string to add to the gate\n",
    "\n",
    "# For instance, the controlled phase 'CPHASE' is defined as follows:\n",
    "_available_gates['CPHASE']\n",
    "\n",
    "# In this case, 'CPHASE' inherits from 'ParamGate' (because it requires\n",
    "# 1 parameter), from 'QubitGate' (because it requires qubits), from 'Tags'\n",
    "# (because we can add tags to the gate) and finally from 'Name' (because\n",
    "# it has a name). The required static variables are then added to \n",
    "# 'static_dict'. In this case, 'n_qubits == 2' (because the gate requires\n",
    "# 2 qubits), 'n_params == 1' (because the gate requires 1 parameter). \n",
    "# 'ParamGate' also requires a generator of the matrix representing the gate\n",
    "# ('Matrix_gen'), which has the following signature:\n",
    "#\n",
    "# def Matrix_Gen(self, param_1, param_2, ..., param_k):\n",
    "#     ..."
   ]
  },
  {
   "cell_type": "code",
   "execution_count": 28,
   "id": "8138a602",
   "metadata": {
    "ExecuteTime": {
     "end_time": "2021-11-04T18:18:40.289878Z",
     "start_time": "2021-11-04T18:18:40.267852Z"
    }
   },
   "outputs": [
    {
     "data": {
      "text/plain": [
       "array([[ 0.69157229+0.j        ,  0.        -0.14740341j,\n",
       "         0.69157229+0.j        ,  0.        -0.14740341j],\n",
       "       [ 0.        -0.14740341j,  0.69157229+0.j        ,\n",
       "         0.        -0.14740341j,  0.69157229+0.j        ],\n",
       "       [ 0.69157229+0.j        ,  0.        -0.14740341j,\n",
       "        -0.69157229+0.j        ,  0.        +0.14740341j],\n",
       "       [ 0.        -0.14740341j,  0.69157229+0.j        ,\n",
       "         0.        +0.14740341j, -0.69157229+0.j        ]])"
      ]
     },
     "execution_count": 28,
     "metadata": {},
     "output_type": "execute_result"
    }
   ],
   "source": [
    "# All properties for gates are in 'hybridq.gate.property'\n",
    "from hybridq.gate import property as gate_pr\n",
    "from hybridq.gate import Gate\n",
    "\n",
    "# In this example, let's create a simple NamedGate that\n",
    "# applies 'H' to the first qubits and 'RX' to the second\n",
    "# qubits\n",
    "Matrix_gen = lambda self, p: np.kron(\n",
    "    Gate('H').matrix(),\n",
    "    Gate('RX', params=[p]).matrix())\n",
    "Matrix_gen(None, 0.42)"
   ]
  },
  {
   "cell_type": "code",
   "execution_count": 29,
   "id": "e285d89d",
   "metadata": {
    "ExecuteTime": {
     "end_time": "2021-11-04T18:18:40.316655Z",
     "start_time": "2021-11-04T18:18:40.291697Z"
    }
   },
   "outputs": [
    {
     "name": "stdout",
     "output_type": "stream",
     "text": [
      "Gate_HRX(name='HRX', qubits=(1, 2), params=(0.42,))\n"
     ]
    },
    {
     "name": "stderr",
     "output_type": "stream",
     "text": [
      "/home/dagart/local/miniconda3/envs/hybridq/lib/python3.8/site-packages/hybridq/gate/gate.py:291: UserWarning: 'NEW_SPECIAL_GATE' is an alias for 'HRX'. Using Gate(name='{_gate_aliases[name]}').\n",
      "  warn(f\"'{name}' is an alias for '{_gate_aliases[name]}'. \"\n"
     ]
    },
    {
     "data": {
      "text/plain": [
       "array([[ 0.55860886+0.j        ,  0.        -0.43353908j,\n",
       "         0.55860886+0.j        ,  0.        -0.43353908j],\n",
       "       [ 0.        -0.43353908j,  0.55860886+0.j        ,\n",
       "         0.        -0.43353908j,  0.55860886+0.j        ],\n",
       "       [ 0.55860886+0.j        ,  0.        -0.43353908j,\n",
       "        -0.55860886+0.j        ,  0.        +0.43353908j],\n",
       "       [ 0.        -0.43353908j,  0.55860886+0.j        ,\n",
       "         0.        +0.43353908j, -0.55860886+0.j        ]])"
      ]
     },
     "execution_count": 29,
     "metadata": {},
     "output_type": "execute_result"
    }
   ],
   "source": [
    "# To add a new NamedGate, it is just enough to update\n",
    "# '_available_gates'\n",
    "_available_gates['HRX'] = dict(mro=(gate_pr.ParamGate, gate_pr.UnitaryGate,\n",
    "                                    gate_pr.QubitGate, gate_pr.TagGate,\n",
    "                                    gate_pr.NameGate),\n",
    "                               methods={},\n",
    "                               static_dict=dict(n_params=1,\n",
    "                                                n_qubits=2,\n",
    "                                                Matrix_gen=Matrix_gen))\n",
    "\n",
    "# Aliases to gates are defined in '_gate_aliases'\n",
    "from hybridq.gate.gate import _gate_aliases\n",
    "_gate_aliases['NEW_SPECIAL_GATE'] = 'HRX'\n",
    "\n",
    "# Once '_available_gates' and '_gate_aliases' are set,\n",
    "# the newly created NamedGate can be generated as usual\n",
    "print(Gate('new_special_gate').on([1, 2]).set_params([0.42]))\n",
    "\n",
    "Gate('new_special_gate').set_params([1.32]).matrix()"
   ]
  },
  {
   "cell_type": "code",
   "execution_count": 30,
   "id": "e8e773f2",
   "metadata": {
    "ExecuteTime": {
     "end_time": "2021-11-04T18:18:40.344611Z",
     "start_time": "2021-11-04T18:18:40.318301Z"
    }
   },
   "outputs": [
    {
     "name": "stdout",
     "output_type": "stream",
     "text": [
      "\n",
      "Not equal to tolerance rtol=1e-07, atol=0\n",
      "\n",
      "Mismatched elements: 10 / 16 (62.5%)\n",
      "Max absolute difference: 1.38314458\n",
      "Max relative difference: 4.79708568\n",
      " x: array([[ 0.691572+0.j      ,  0.      -0.147403j,  0.691572+0.j      ,\n",
      "         0.      -0.147403j],\n",
      "       [ 0.      -0.147403j,  0.691572+0.j      ,  0.      -0.147403j,...\n",
      " y: array([[ 0.691572+0.j      ,  0.691572+0.j      ,  0.      -0.147403j,\n",
      "         0.      -0.147403j],\n",
      "       [ 0.691572+0.j      , -0.691572+0.j      ,  0.      -0.147403j,...\n"
     ]
    }
   ],
   "source": [
    "# It is important to keep in mind the order of qubits matter.\n",
    "# In this case, H is applied to the first qubits and RX to the\n",
    "# second qubits. Therefore Gate('HRX').on([1, 2]) is different\n",
    "# from Gate('HRX').on([2, 1])\n",
    "try:\n",
    "    np.testing.assert_allclose(\n",
    "        Gate('hrx', params=[0.42]).on([1, 2]).matrix(),\n",
    "        Gate('hrx', params=[0.42]).on([2, 1]).matrix(order=[1, 2]))\n",
    "except Exception as e:\n",
    "    print(e)\n",
    "else:\n",
    "    raise RuntimeError('Something went wrong')"
   ]
  },
  {
   "cell_type": "code",
   "execution_count": 31,
   "id": "a4d296b0",
   "metadata": {
    "ExecuteTime": {
     "end_time": "2021-11-04T18:18:40.374536Z",
     "start_time": "2021-11-04T18:18:40.348810Z"
    }
   },
   "outputs": [
    {
     "name": "stdout",
     "output_type": "stream",
     "text": [
      "Gate_HH(name='HH', n_qubits=2, M=numpy.ndarray(shape=(4, 4), dtype=float64))\n"
     ]
    },
    {
     "data": {
      "text/plain": [
       "array([[ 0.5,  0.5,  0.5,  0.5],\n",
       "       [ 0.5, -0.5,  0.5, -0.5],\n",
       "       [ 0.5,  0.5, -0.5, -0.5],\n",
       "       [ 0.5, -0.5, -0.5,  0.5]])"
      ]
     },
     "execution_count": 31,
     "metadata": {},
     "output_type": "execute_result"
    }
   ],
   "source": [
    "# If the gate doesn't require any parameters, one can drop the\n",
    "# 'ParamGate' property and use 'MatrixGate' instead:\n",
    "_available_gates['HH'] = dict(\n",
    "    mro=(gate_pr.MatrixGate, gate_pr.UnitaryGate, gate_pr.QubitGate,\n",
    "         gate_pr.TagGate, gate_pr.NameGate),\n",
    "    methods={},\n",
    "    static_dict=dict(n_qubits=2,\n",
    "                     Matrix=np.kron(Gate('H').matrix(),\n",
    "                                    Gate('H').matrix())))\n",
    "\n",
    "# Get gate\n",
    "print(Gate('hh'))\n",
    "Gate('hh').matrix()"
   ]
  },
  {
   "cell_type": "markdown",
   "id": "02248b2b",
   "metadata": {},
   "source": [
    "## Gate Implementation\n",
    "\n",
    "Every property must inherit from <code>\\_\\_Base__</code>, which will add to the object the basic functionality to work with the **HybridQ** library."
   ]
  },
  {
   "cell_type": "code",
   "execution_count": 32,
   "id": "224931a1",
   "metadata": {
    "ExecuteTime": {
     "end_time": "2021-11-04T18:18:40.394983Z",
     "start_time": "2021-11-04T18:18:40.376568Z"
    }
   },
   "outputs": [],
   "source": [
    "from hybridq.base import __Base__\n",
    "\n",
    "\n",
    "class A(__Base__):\n",
    "    pass"
   ]
  },
  {
   "cell_type": "markdown",
   "id": "98b2c716",
   "metadata": {},
   "source": [
    "The **HybridQ** library provides useful decorator to help developing new properties. At the moment, **HybridQ** provides:\n",
    "<od>\n",
    "    <li><code>staticvars</code>\n",
    "    <li><code>compare</code>\n",
    "    <li><code>requires</code>\n",
    "    <li><code>generate</code>\n",
    "</od>\n",
    "\n",
    "<code>staticvars</code> is used to add variables which must provided while creating the object. <code>compare</code> is used to specify which variables should be compared in <code>\\_\\_eq__</code>. Similarly, <code>requires</code> is used to specify which variables the final object should have once created. Finally, <code>generate</code> is used to create **HybridQ** objects."
   ]
  },
  {
   "cell_type": "code",
   "execution_count": 33,
   "id": "0958f565",
   "metadata": {
    "ExecuteTime": {
     "end_time": "2021-11-04T18:18:40.436995Z",
     "start_time": "2021-11-04T18:18:40.397525Z"
    }
   },
   "outputs": [
    {
     "name": "stdout",
     "output_type": "stream",
     "text": [
      "(1, '2.2')\n",
      "Check failed for 'a'\n",
      "Static variable 'b' must be provided.\n",
      "Cannot set static variable\n"
     ]
    }
   ],
   "source": [
    "from hybridq.base import staticvars, generate\n",
    "\n",
    "# Let's start creating an object with two static variables a and b,\n",
    "# with a having a default value a=1. We want to make sure that a is\n",
    "# always an integer between 0 and 10 while b can be any string.\n",
    "@staticvars('a,b',\n",
    "            a=1,\n",
    "            transform=dict(a=int, b=str),\n",
    "            check=dict(a=lambda x: 0 <= x <= 10))\n",
    "class A(__Base__):\n",
    "    pass\n",
    "\n",
    "\n",
    "# Generate new type\n",
    "new_type = generate('NewType', (A, ), b=2.2)\n",
    "\n",
    "# Get new object\n",
    "o = new_type()\n",
    "\n",
    "# Get values\n",
    "print((o.a, o.b))\n",
    "\n",
    "# Trying to create a new type with a not in [0, 10] will fail\n",
    "try:\n",
    "    generate('NewType', (A, ), a=-1, b='this is a string')\n",
    "except Exception as e:\n",
    "    print(e)\n",
    "else:\n",
    "    raise RuntimeError(\"Something went wrong\")\n",
    "\n",
    "# Also, not specifying b will fail\n",
    "try:\n",
    "    generate('NewType', (A, ))\n",
    "except Exception as e:\n",
    "    print(e)\n",
    "else:\n",
    "    raise RuntimeError(\"Something went wrong\")\n",
    "\n",
    "# Static variables are by default read-only\n",
    "try:\n",
    "    o.a = 1\n",
    "except Exception as e:\n",
    "    print(e)\n",
    "else:\n",
    "    raise RuntimeError(\"Something went wrong\")"
   ]
  },
  {
   "cell_type": "code",
   "execution_count": 34,
   "id": "7a3a31dc",
   "metadata": {
    "ExecuteTime": {
     "end_time": "2021-11-04T18:18:40.481294Z",
     "start_time": "2021-11-04T18:18:40.441688Z"
    }
   },
   "outputs": [],
   "source": [
    "from hybridq.base import compare\n",
    "\n",
    "# By default, '__eq__' does not compare any variables\n",
    "o1 = generate('NewType', (A, ), a=1, b=2)()\n",
    "o2 = generate('NewType', (A, ), a=3, b='hello!')()\n",
    "\n",
    "# Even if the two objects have different static vars,\n",
    "# __eq__ returns True\n",
    "assert (o1 == o2)\n",
    "\n",
    "\n",
    "# The decorator 'compare' can be used to specify which\n",
    "# variables to compare\n",
    "@compare('a,c', cmp=dict(c=lambda x, y: int(x) == int(y)))\n",
    "class B(A, b='default'):\n",
    "    def __init_subclass__(cls, b=None, **kwargs):\n",
    "        # If 'b' is not provided, use the default value\n",
    "        b = cls.__get_staticvar__('b') if b is None else b\n",
    "\n",
    "        # Call super\n",
    "        super().__init_subclass__(b=b, **kwargs)\n",
    "\n",
    "    def __init__(self, c):\n",
    "        self.c = c\n",
    "\n",
    "\n",
    "# Generate new objects\n",
    "o1 = generate('NewTypeB', (B, ))(c=1)\n",
    "o2 = generate('NewTypeB', (B, ))(c=2)\n",
    "o3 = generate('NewTypeB', (B, ), b='not default')(c=1.3)\n",
    "\n",
    "# Because a and c are compared, only o1 == o3\n",
    "assert (o1 != o2)\n",
    "assert (o1 == o3)\n",
    "assert (o2 != o3)"
   ]
  },
  {
   "cell_type": "code",
   "execution_count": 35,
   "id": "4a9fa26d",
   "metadata": {
    "ExecuteTime": {
     "end_time": "2021-11-04T18:18:40.510734Z",
     "start_time": "2021-11-04T18:18:40.483525Z"
    }
   },
   "outputs": [
    {
     "name": "stdout",
     "output_type": "stream",
     "text": [
      "The following required attributes are not provided: ('b',)\n"
     ]
    },
    {
     "data": {
      "text/plain": [
       "hybridq.base.base.NewType"
      ]
     },
     "execution_count": 35,
     "metadata": {},
     "output_type": "execute_result"
    }
   ],
   "source": [
    "from hybridq.base import requires\n",
    "\n",
    "\n",
    "# Object may require variables that are not directly\n",
    "# implemented but provided at the creation time\n",
    "@requires('b')\n",
    "class A(__Base__):\n",
    "    pass\n",
    "\n",
    "\n",
    "@staticvars('b')\n",
    "class B(__Base__):\n",
    "    pass\n",
    "\n",
    "\n",
    "# Creating a new type with 'A' alone will fail\n",
    "try:\n",
    "    generate('NewType', (A, ))\n",
    "except Exception as e:\n",
    "    print(e)\n",
    "else:\n",
    "    raise RuntimeError(\"Something went wrong\")\n",
    "\n",
    "# However, since 'B' provides 'b', generating a\n",
    "# new type from (B, A) will succede\n",
    "generate('NewType', (B, A), b=42)"
   ]
  },
  {
   "cell_type": "code",
   "execution_count": 36,
   "id": "1fb24d38",
   "metadata": {
    "ExecuteTime": {
     "end_time": "2021-11-04T18:18:40.538979Z",
     "start_time": "2021-11-04T18:18:40.513060Z"
    }
   },
   "outputs": [
    {
     "name": "stdout",
     "output_type": "stream",
     "text": [
      "o[a] = 1\n",
      "o[b] = 2\n",
      "o[c] = 3\n",
      "o[x] = a\n",
      "o[y] = b\n",
      "o[q] = test\n",
      "---\n",
      "o[a] = 1\n",
      "o[b] = 2\n",
      "o[c] = 3\n",
      "o[x] = a\n",
      "o[y] = b\n",
      "o[q] = test\n",
      "---\n",
      "hash(o) = -6118662939848612053\n"
     ]
    }
   ],
   "source": [
    "import pickle\n",
    "\n",
    "\n",
    "# All objects derived from __Base__ are pickable. This\n",
    "# is very useful when the use of 'multiprocessing' is\n",
    "# required\n",
    "@staticvars('a,b,c', a=1, b=2, c=3)\n",
    "class A(__Base__):\n",
    "    pass\n",
    "\n",
    "\n",
    "@staticvars('x,y', x='a', y='b')\n",
    "class B(A):\n",
    "    def __init__(self, q=None):\n",
    "        self.q = q\n",
    "\n",
    "\n",
    "# Get new object\n",
    "o = generate('NewType', (B, A))(q='test')\n",
    "\n",
    "# Print\n",
    "for k in 'abcxyq':\n",
    "    print(f'o[{k}] = {getattr(o, k)}')\n",
    "\n",
    "# Dump/load using pickle\n",
    "o = pickle.loads(pickle.dumps(o))\n",
    "\n",
    "# Print\n",
    "print('---')\n",
    "for k in 'abcxyq':\n",
    "    print(f'o[{k}] = {getattr(o, k)}')\n",
    "\n",
    "# __Base__ objects can also be hashed. Hashing is\n",
    "# done by using binary provided by pickle\n",
    "print('---')\n",
    "print(f'hash(o) = {hash(o)}')"
   ]
  },
  {
   "cell_type": "markdown",
   "id": "c437b342",
   "metadata": {},
   "source": [
    "## Conclusion\n",
    "Thank you for trying out this tutorial. See the examples in the `examples/` folder for more details on how to use the package. Please checkout the other tutorials in the tutorials folder. Please open an issue here: https://github.com/nasa/hybridq/issues if you run into any issues or have a question. You can also contact Salvatore Mandra at salvatore.madra@nasa.gov."
   ]
  }
 ],
 "metadata": {
  "kernelspec": {
   "display_name": "Python 3 (ipykernel)",
   "language": "python",
   "name": "python3"
  },
  "language_info": {
   "codemirror_mode": {
    "name": "ipython",
    "version": 3
   },
   "file_extension": ".py",
   "mimetype": "text/x-python",
   "name": "python",
   "nbconvert_exporter": "python",
   "pygments_lexer": "ipython3",
   "version": "3.8.12"
  },
  "latex_envs": {
   "LaTeX_envs_menu_present": true,
   "autoclose": false,
   "autocomplete": true,
   "bibliofile": "biblio.bib",
   "cite_by": "apalike",
   "current_citInitial": 1,
   "eqLabelWithNumbers": true,
   "eqNumInitial": 1,
   "hotkeys": {
    "equation": "Ctrl-E",
    "itemize": "Ctrl-I"
   },
   "labels_anchors": false,
   "latex_user_defs": false,
   "report_style_numbering": false,
   "user_envs_cfg": false
  },
  "varInspector": {
   "cols": {
    "lenName": 16,
    "lenType": 16,
    "lenVar": 40
   },
   "kernels_config": {
    "python": {
     "delete_cmd_postfix": "",
     "delete_cmd_prefix": "del ",
     "library": "var_list.py",
     "varRefreshCmd": "print(var_dic_list())"
    },
    "r": {
     "delete_cmd_postfix": ") ",
     "delete_cmd_prefix": "rm(",
     "library": "var_list.r",
     "varRefreshCmd": "cat(var_dic_list()) "
    }
   },
   "types_to_exclude": [
    "module",
    "function",
    "builtin_function_or_method",
    "instance",
    "_Feature"
   ],
   "window_display": false
  }
 },
 "nbformat": 4,
 "nbformat_minor": 5
}
