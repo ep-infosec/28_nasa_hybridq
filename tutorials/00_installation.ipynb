{
 "cells": [
  {
   "cell_type": "markdown",
   "id": "16e37fd4",
   "metadata": {},
   "source": [
    "Authors: Salvatore Mandra (salvatore.mandra@nasa.gov)<br>\n",
    "&emsp;&emsp;&emsp;&emsp;Jeffrey Marshall (jeffrey.s.marshall@nasa.gov)\n",
    "\n",
    "Copyright © 2021, United States Government, as represented by the Administrator\n",
    "of the National Aeronautics and Space Administration. All rights reserved.\n",
    "\n",
    "The *HybridQ: A Hybrid Simulator for Quantum Circuits* platform is licensed under\n",
    "the Apache License, Version 2.0 (the \"License\"); you may not use this file\n",
    "except in compliance with the License. You may obtain a copy of the License at\n",
    "http://www.apache.org/licenses/LICENSE-2.0. \n",
    "\n",
    "Unless required by applicable law or agreed to in writing, software distributed\n",
    "under the License is distributed on an \"AS IS\" BASIS, WITHOUT WARRANTIES OR\n",
    "CONDITIONS OF ANY KIND, either express or implied. See the License for the\n",
    "specific language governing permissions and limitations under the License."
   ]
  },
  {
   "cell_type": "markdown",
   "id": "e60a9b1c",
   "metadata": {},
   "source": [
    "# 00 - Installation\n",
    "\n",
    "There are multiple ways to install **HybridQ**. The easiest way, and probably the most compatible for online services like CoLab@Google, is by using <code>pip</code>, which also ensure the use of the most recent version of **HybridQ**, and it compiles the library for the specific machine:"
   ]
  },
  {
   "cell_type": "code",
   "execution_count": 1,
   "id": "947358f2",
   "metadata": {
    "ExecuteTime": {
     "end_time": "2021-10-27T17:39:48.786094Z",
     "start_time": "2021-10-27T17:39:32.714766Z"
    }
   },
   "outputs": [],
   "source": [
    "!pip install -qU git+https://github.com/nasa/hybridq"
   ]
  },
  {
   "cell_type": "markdown",
   "id": "23b90bce",
   "metadata": {},
   "source": [
    "Otherwise, **HybridQ** can be installed directly from PyPI (library are compiled for generic core-avx2 machines):\n",
    "\n",
    "<code>pip install hybridq</code>\n",
    "\n",
    "Finally, **HybridQ** can also be installed via <code>conda</code>. In this case, it is just enough to unzip the **HybridQ** library in your local machine and execute:\n",
    "\n",
    "<code>conda env create -f environment.yml</code>\n",
    "\n",
    "The installation through <code>conda</code> guarantees that all the dependencies are properly installed. If some problems arise, please che the troubleshooting section in the [README.md](https://github.com/nasa/hybridq/blob/main/README.md) section.\n",
    "\n",
    "To check the **HybridQ** installation, simply execute:"
   ]
  },
  {
   "cell_type": "code",
   "execution_count": 2,
   "id": "6e0e4c99",
   "metadata": {
    "ExecuteTime": {
     "end_time": "2021-10-27T17:39:50.674462Z",
     "start_time": "2021-10-27T17:39:48.791877Z"
    }
   },
   "outputs": [
    {
     "name": "stdout",
     "output_type": "stream",
     "text": [
      "HybridQ C++ core available? yes\n",
      "Tensor contraction available? yes\n",
      "OpenMP available? yes\n",
      "MPI available? yes\n"
     ]
    }
   ],
   "source": [
    "from subprocess import Popen, PIPE\n",
    "\n",
    "# Check if OpenMP is supported\n",
    "_openmp = any('OPENMP' in x.upper()\n",
    "              for x in Popen(\"g++ -E -fopenmp -dM -\".split(),\n",
    "                             stdin=Popen(\"echo\".split(), stdout=PIPE).stdout,\n",
    "                             stdout=PIPE).communicate()[0].decode().split())\n",
    "\n",
    "# Import the C++ core for vector transposition\n",
    "from hybridq.utils.transpose import _lib_swap\n",
    "\n",
    "# Import the C++ core for matrix-vector multiplication\n",
    "from hybridq.utils.dot import _lib_dot\n",
    "\n",
    "# Import Cotengra and QuiMB\n",
    "try:\n",
    "    import cotengra\n",
    "    import quimb\n",
    "except:\n",
    "    _tn = False\n",
    "else:\n",
    "    _tn = True\n",
    "\n",
    "# Import MPI4Py\n",
    "try:\n",
    "    import mpi4py\n",
    "except:\n",
    "    _mpi = False\n",
    "else:\n",
    "    _mpi = True\n",
    "\n",
    "# Load gates\n",
    "from hybridq.gate import Gate\n",
    "\n",
    "print(\"HybridQ C++ core available?\", 'yes' if _lib_swap and _lib_dot else 'no')\n",
    "print(\"Tensor contraction available?\", 'yes' if _tn else 'no')\n",
    "print(\"OpenMP available?\", 'yes' if _openmp else 'no')\n",
    "print(\"MPI available?\", 'yes' if _mpi else 'no')"
   ]
  }
 ],
 "metadata": {
  "kernelspec": {
   "display_name": "Python 3 (ipykernel)",
   "language": "python",
   "name": "python3"
  },
  "language_info": {
   "codemirror_mode": {
    "name": "ipython",
    "version": 3
   },
   "file_extension": ".py",
   "mimetype": "text/x-python",
   "name": "python",
   "nbconvert_exporter": "python",
   "pygments_lexer": "ipython3",
   "version": "3.8.12"
  },
  "latex_envs": {
   "LaTeX_envs_menu_present": true,
   "autoclose": false,
   "autocomplete": true,
   "bibliofile": "biblio.bib",
   "cite_by": "apalike",
   "current_citInitial": 1,
   "eqLabelWithNumbers": true,
   "eqNumInitial": 1,
   "hotkeys": {
    "equation": "Ctrl-E",
    "itemize": "Ctrl-I"
   },
   "labels_anchors": false,
   "latex_user_defs": false,
   "report_style_numbering": false,
   "user_envs_cfg": false
  },
  "varInspector": {
   "cols": {
    "lenName": 16,
    "lenType": 16,
    "lenVar": 40
   },
   "kernels_config": {
    "python": {
     "delete_cmd_postfix": "",
     "delete_cmd_prefix": "del ",
     "library": "var_list.py",
     "varRefreshCmd": "print(var_dic_list())"
    },
    "r": {
     "delete_cmd_postfix": ") ",
     "delete_cmd_prefix": "rm(",
     "library": "var_list.r",
     "varRefreshCmd": "cat(var_dic_list()) "
    }
   },
   "types_to_exclude": [
    "module",
    "function",
    "builtin_function_or_method",
    "instance",
    "_Feature"
   ],
   "window_display": false
  }
 },
 "nbformat": 4,
 "nbformat_minor": 5
}
